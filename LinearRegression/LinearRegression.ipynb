{
 "cells": [
  {
   "cell_type": "markdown",
   "id": "06271db3-6ccf-4870-8e0f-186a9b0e0953",
   "metadata": {},
   "source": [
    "# Linear Regression Model"
   ]
  },
  {
   "cell_type": "markdown",
   "id": "98a3399e-d84c-460b-a617-9cad6fb1c9c0",
   "metadata": {},
   "source": [
    "In this Notebook, I'll build a simple linear regression and multiple regression model using the **Car** dataset, following the instructions from the book *Murach's Python for Data Analysis* by Scott Mccoy."
   ]
  },
  {
   "cell_type": "markdown",
   "id": "c2e98f92-322e-4c4c-ac80-c19968ed05e8",
   "metadata": {},
   "source": [
    "---"
   ]
  },
  {
   "cell_type": "code",
   "execution_count": 1,
   "id": "b5230dbe-0ea0-4bae-9489-1845d2bf6149",
   "metadata": {},
   "outputs": [],
   "source": [
    "import pandas as pd\n",
    "import seaborn as sns\n",
    "import numpy as np\n",
    "import matplotlib.pyplot as plt\n",
    "\n",
    "cars = pd.read_csv('cars.csv')"
   ]
  },
  {
   "cell_type": "code",
   "execution_count": 2,
   "id": "531b3cba-9bc6-46c3-b9bb-06cf006fdc5c",
   "metadata": {},
   "outputs": [],
   "source": [
    "pd.set_option('display.max_columns', 50)"
   ]
  },
  {
   "cell_type": "code",
   "execution_count": 3,
   "id": "ae2dee3d-3025-4678-9c74-b07a29943c93",
   "metadata": {},
   "outputs": [
    {
     "data": {
      "text/html": [
       "<div>\n",
       "<style scoped>\n",
       "    .dataframe tbody tr th:only-of-type {\n",
       "        vertical-align: middle;\n",
       "    }\n",
       "\n",
       "    .dataframe tbody tr th {\n",
       "        vertical-align: top;\n",
       "    }\n",
       "\n",
       "    .dataframe thead th {\n",
       "        text-align: right;\n",
       "    }\n",
       "</style>\n",
       "<table border=\"1\" class=\"dataframe\">\n",
       "  <thead>\n",
       "    <tr style=\"text-align: right;\">\n",
       "      <th></th>\n",
       "      <th>car_ID</th>\n",
       "      <th>symboling</th>\n",
       "      <th>CarName</th>\n",
       "      <th>fueltype</th>\n",
       "      <th>aspiration</th>\n",
       "      <th>doornumber</th>\n",
       "      <th>carbody</th>\n",
       "      <th>drivewheel</th>\n",
       "      <th>enginelocation</th>\n",
       "      <th>wheelbase</th>\n",
       "      <th>carlength</th>\n",
       "      <th>carwidth</th>\n",
       "      <th>carheight</th>\n",
       "      <th>curbweight</th>\n",
       "      <th>enginetype</th>\n",
       "      <th>cylindernumber</th>\n",
       "      <th>enginesize</th>\n",
       "      <th>fuelsystem</th>\n",
       "      <th>boreratio</th>\n",
       "      <th>stroke</th>\n",
       "      <th>compressionratio</th>\n",
       "      <th>horsepower</th>\n",
       "      <th>peakrpm</th>\n",
       "      <th>citympg</th>\n",
       "      <th>highwaympg</th>\n",
       "      <th>price</th>\n",
       "    </tr>\n",
       "  </thead>\n",
       "  <tbody>\n",
       "    <tr>\n",
       "      <th>0</th>\n",
       "      <td>1</td>\n",
       "      <td>3</td>\n",
       "      <td>alfa-romero giulia</td>\n",
       "      <td>gas</td>\n",
       "      <td>std</td>\n",
       "      <td>two</td>\n",
       "      <td>convertible</td>\n",
       "      <td>rwd</td>\n",
       "      <td>front</td>\n",
       "      <td>88.6</td>\n",
       "      <td>168.8</td>\n",
       "      <td>64.1</td>\n",
       "      <td>48.8</td>\n",
       "      <td>2548</td>\n",
       "      <td>dohc</td>\n",
       "      <td>four</td>\n",
       "      <td>130</td>\n",
       "      <td>mpfi</td>\n",
       "      <td>3.47</td>\n",
       "      <td>2.68</td>\n",
       "      <td>9.0</td>\n",
       "      <td>111</td>\n",
       "      <td>5000</td>\n",
       "      <td>21</td>\n",
       "      <td>27</td>\n",
       "      <td>13495.0</td>\n",
       "    </tr>\n",
       "    <tr>\n",
       "      <th>1</th>\n",
       "      <td>2</td>\n",
       "      <td>3</td>\n",
       "      <td>alfa-romero stelvio</td>\n",
       "      <td>gas</td>\n",
       "      <td>std</td>\n",
       "      <td>two</td>\n",
       "      <td>convertible</td>\n",
       "      <td>rwd</td>\n",
       "      <td>front</td>\n",
       "      <td>88.6</td>\n",
       "      <td>168.8</td>\n",
       "      <td>64.1</td>\n",
       "      <td>48.8</td>\n",
       "      <td>2548</td>\n",
       "      <td>dohc</td>\n",
       "      <td>four</td>\n",
       "      <td>130</td>\n",
       "      <td>mpfi</td>\n",
       "      <td>3.47</td>\n",
       "      <td>2.68</td>\n",
       "      <td>9.0</td>\n",
       "      <td>111</td>\n",
       "      <td>5000</td>\n",
       "      <td>21</td>\n",
       "      <td>27</td>\n",
       "      <td>16500.0</td>\n",
       "    </tr>\n",
       "    <tr>\n",
       "      <th>2</th>\n",
       "      <td>3</td>\n",
       "      <td>1</td>\n",
       "      <td>alfa-romero Quadrifoglio</td>\n",
       "      <td>gas</td>\n",
       "      <td>std</td>\n",
       "      <td>two</td>\n",
       "      <td>hatchback</td>\n",
       "      <td>rwd</td>\n",
       "      <td>front</td>\n",
       "      <td>94.5</td>\n",
       "      <td>171.2</td>\n",
       "      <td>65.5</td>\n",
       "      <td>52.4</td>\n",
       "      <td>2823</td>\n",
       "      <td>ohcv</td>\n",
       "      <td>six</td>\n",
       "      <td>152</td>\n",
       "      <td>mpfi</td>\n",
       "      <td>2.68</td>\n",
       "      <td>3.47</td>\n",
       "      <td>9.0</td>\n",
       "      <td>154</td>\n",
       "      <td>5000</td>\n",
       "      <td>19</td>\n",
       "      <td>26</td>\n",
       "      <td>16500.0</td>\n",
       "    </tr>\n",
       "    <tr>\n",
       "      <th>3</th>\n",
       "      <td>4</td>\n",
       "      <td>2</td>\n",
       "      <td>audi 100 ls</td>\n",
       "      <td>gas</td>\n",
       "      <td>std</td>\n",
       "      <td>four</td>\n",
       "      <td>sedan</td>\n",
       "      <td>fwd</td>\n",
       "      <td>front</td>\n",
       "      <td>99.8</td>\n",
       "      <td>176.6</td>\n",
       "      <td>66.2</td>\n",
       "      <td>54.3</td>\n",
       "      <td>2337</td>\n",
       "      <td>ohc</td>\n",
       "      <td>four</td>\n",
       "      <td>109</td>\n",
       "      <td>mpfi</td>\n",
       "      <td>3.19</td>\n",
       "      <td>3.40</td>\n",
       "      <td>10.0</td>\n",
       "      <td>102</td>\n",
       "      <td>5500</td>\n",
       "      <td>24</td>\n",
       "      <td>30</td>\n",
       "      <td>13950.0</td>\n",
       "    </tr>\n",
       "    <tr>\n",
       "      <th>4</th>\n",
       "      <td>5</td>\n",
       "      <td>2</td>\n",
       "      <td>audi 100ls</td>\n",
       "      <td>gas</td>\n",
       "      <td>std</td>\n",
       "      <td>four</td>\n",
       "      <td>sedan</td>\n",
       "      <td>4wd</td>\n",
       "      <td>front</td>\n",
       "      <td>99.4</td>\n",
       "      <td>176.6</td>\n",
       "      <td>66.4</td>\n",
       "      <td>54.3</td>\n",
       "      <td>2824</td>\n",
       "      <td>ohc</td>\n",
       "      <td>five</td>\n",
       "      <td>136</td>\n",
       "      <td>mpfi</td>\n",
       "      <td>3.19</td>\n",
       "      <td>3.40</td>\n",
       "      <td>8.0</td>\n",
       "      <td>115</td>\n",
       "      <td>5500</td>\n",
       "      <td>18</td>\n",
       "      <td>22</td>\n",
       "      <td>17450.0</td>\n",
       "    </tr>\n",
       "  </tbody>\n",
       "</table>\n",
       "</div>"
      ],
      "text/plain": [
       "   car_ID  symboling                   CarName fueltype aspiration doornumber  \\\n",
       "0       1          3        alfa-romero giulia      gas        std        two   \n",
       "1       2          3       alfa-romero stelvio      gas        std        two   \n",
       "2       3          1  alfa-romero Quadrifoglio      gas        std        two   \n",
       "3       4          2               audi 100 ls      gas        std       four   \n",
       "4       5          2                audi 100ls      gas        std       four   \n",
       "\n",
       "       carbody drivewheel enginelocation  wheelbase  carlength  carwidth  \\\n",
       "0  convertible        rwd          front       88.6      168.8      64.1   \n",
       "1  convertible        rwd          front       88.6      168.8      64.1   \n",
       "2    hatchback        rwd          front       94.5      171.2      65.5   \n",
       "3        sedan        fwd          front       99.8      176.6      66.2   \n",
       "4        sedan        4wd          front       99.4      176.6      66.4   \n",
       "\n",
       "   carheight  curbweight enginetype cylindernumber  enginesize fuelsystem  \\\n",
       "0       48.8        2548       dohc           four         130       mpfi   \n",
       "1       48.8        2548       dohc           four         130       mpfi   \n",
       "2       52.4        2823       ohcv            six         152       mpfi   \n",
       "3       54.3        2337        ohc           four         109       mpfi   \n",
       "4       54.3        2824        ohc           five         136       mpfi   \n",
       "\n",
       "   boreratio  stroke  compressionratio  horsepower  peakrpm  citympg  \\\n",
       "0       3.47    2.68               9.0         111     5000       21   \n",
       "1       3.47    2.68               9.0         111     5000       21   \n",
       "2       2.68    3.47               9.0         154     5000       19   \n",
       "3       3.19    3.40              10.0         102     5500       24   \n",
       "4       3.19    3.40               8.0         115     5500       18   \n",
       "\n",
       "   highwaympg    price  \n",
       "0          27  13495.0  \n",
       "1          27  16500.0  \n",
       "2          26  16500.0  \n",
       "3          30  13950.0  \n",
       "4          22  17450.0  "
      ]
     },
     "execution_count": 3,
     "metadata": {},
     "output_type": "execute_result"
    }
   ],
   "source": [
    "cars.head()"
   ]
  },
  {
   "cell_type": "code",
   "execution_count": 4,
   "id": "2bab0d63-6b23-4e7b-b5c8-0b9aaceaf6dc",
   "metadata": {},
   "outputs": [
    {
     "name": "stdout",
     "output_type": "stream",
     "text": [
      "<class 'pandas.core.frame.DataFrame'>\n",
      "RangeIndex: 205 entries, 0 to 204\n",
      "Data columns (total 26 columns):\n",
      " #   Column            Non-Null Count  Dtype  \n",
      "---  ------            --------------  -----  \n",
      " 0   car_ID            205 non-null    int64  \n",
      " 1   symboling         205 non-null    int64  \n",
      " 2   CarName           205 non-null    object \n",
      " 3   fueltype          205 non-null    object \n",
      " 4   aspiration        205 non-null    object \n",
      " 5   doornumber        205 non-null    object \n",
      " 6   carbody           205 non-null    object \n",
      " 7   drivewheel        205 non-null    object \n",
      " 8   enginelocation    205 non-null    object \n",
      " 9   wheelbase         205 non-null    float64\n",
      " 10  carlength         205 non-null    float64\n",
      " 11  carwidth          205 non-null    float64\n",
      " 12  carheight         205 non-null    float64\n",
      " 13  curbweight        205 non-null    int64  \n",
      " 14  enginetype        205 non-null    object \n",
      " 15  cylindernumber    205 non-null    object \n",
      " 16  enginesize        205 non-null    int64  \n",
      " 17  fuelsystem        205 non-null    object \n",
      " 18  boreratio         205 non-null    float64\n",
      " 19  stroke            205 non-null    float64\n",
      " 20  compressionratio  205 non-null    float64\n",
      " 21  horsepower        205 non-null    int64  \n",
      " 22  peakrpm           205 non-null    int64  \n",
      " 23  citympg           205 non-null    int64  \n",
      " 24  highwaympg        205 non-null    int64  \n",
      " 25  price             205 non-null    float64\n",
      "dtypes: float64(8), int64(8), object(10)\n",
      "memory usage: 41.8+ KB\n"
     ]
    }
   ],
   "source": [
    "cars.info()"
   ]
  },
  {
   "cell_type": "markdown",
   "id": "6d5403bf-9fae-417a-a8b4-bca43e415a14",
   "metadata": {},
   "source": [
    "### Use the dataset to predict the price of a car based on a set of independent variables"
   ]
  },
  {
   "cell_type": "markdown",
   "id": "20430957-0df6-4712-aca6-e70bc9b1f8e2",
   "metadata": {
    "jp-MarkdownHeadingCollapsed": true,
    "tags": []
   },
   "source": [
    "# Simple Linear Regression Model"
   ]
  },
  {
   "cell_type": "code",
   "execution_count": 5,
   "id": "f2b8a4f9-4c4c-4f1f-a747-75dca7e6d403",
   "metadata": {},
   "outputs": [
    {
     "data": {
      "text/plain": [
       "<AxesSubplot:>"
      ]
     },
     "execution_count": 5,
     "metadata": {},
     "output_type": "execute_result"
    },
    {
     "data": {
      "image/png": "[encoded data removed]",
      "text/plain": [
       "<Figure size 432x288 with 1 Axes>"
      ]
     },
     "metadata": {
      "needs_background": "light"
     },
     "output_type": "display_data"
    }
   ],
   "source": [
    "sns.heatmap(cars.corr()[['price']].sort_values('price', ascending=False),\n",
    "            cmap='Purples', vmin=-1, vmax=1, annot=True, cbar=False, fmt='.2f')"
   ]
  },
  {
   "cell_type": "code",
   "execution_count": 6,
   "id": "1e3fd54e-914a-465c-b400-cc4e310a40eb",
   "metadata": {},
   "outputs": [],
   "source": [
    "from sklearn.model_selection import train_test_split"
   ]
  },
  {
   "cell_type": "code",
   "execution_count": 7,
   "id": "8b734506-d7d2-4d1a-ab4a-8f70a4c28529",
   "metadata": {},
   "outputs": [],
   "source": [
    "X = cars[['enginesize']]\n",
    "Y = cars[['price']]\n",
    "X_train, X_test, Y_train, Y_test = train_test_split(X, Y, test_size=0.33, random_state=20)"
   ]
  },
  {
   "cell_type": "code",
   "execution_count": 8,
   "id": "2747d0aa-23be-4f0f-82ae-ef69294aeb81",
   "metadata": {},
   "outputs": [],
   "source": [
    "from sklearn.linear_model import LinearRegression"
   ]
  },
  {
   "cell_type": "code",
   "execution_count": 9,
   "id": "17932412-279b-49e9-b4a7-e97893d79e9c",
   "metadata": {},
   "outputs": [],
   "source": [
    "model = LinearRegression().fit(X_train, Y_train)"
   ]
  },
  {
   "cell_type": "code",
   "execution_count": 10,
   "id": "8f91ad98-2752-4693-939b-d87614b3efaf",
   "metadata": {},
   "outputs": [
    {
     "name": "stdout",
     "output_type": "stream",
     "text": [
      "The score of the training dataset is 0.771\n",
      "The score of the test dataset is 0.703\n"
     ]
    }
   ],
   "source": [
    "train_score = model.score(X_train, Y_train)\n",
    "test_score = model.score(X_test, Y_test)\n",
    "print(f\"The score of the training dataset is {train_score:.3f}\")\n",
    "print(f\"The score of the test dataset is {test_score:.3f}\")"
   ]
  },
  {
   "cell_type": "code",
   "execution_count": 11,
   "id": "7f0bd15c-f783-4122-a560-79d4e1eead31",
   "metadata": {},
   "outputs": [
    {
     "name": "stdout",
     "output_type": "stream",
     "text": [
      "The linear regression equation is: Y = 172.61500571211266X + -8327.960903953557\n"
     ]
    }
   ],
   "source": [
    "print(f\"The linear regression equation is: Y = {model.coef_[0][0]}X + {model.intercept_[0]}\")"
   ]
  },
  {
   "cell_type": "code",
   "execution_count": 12,
   "id": "15a06294-e5cb-48c6-b5a8-2d40664cbede",
   "metadata": {},
   "outputs": [],
   "source": [
    "Y_pred = model.predict(X_test)"
   ]
  },
  {
   "cell_type": "code",
   "execution_count": 13,
   "id": "72b62624-a6fc-4d65-9aae-16c98aac8d94",
   "metadata": {},
   "outputs": [
    {
     "data": {
      "text/plain": [
       "array([[15147.67987289],\n",
       "       [ 7207.38961014],\n",
       "       [ 7552.61962156],\n",
       "       [26712.88525561],\n",
       "       [ 7552.61962156],\n",
       "       [ 8415.69465012],\n",
       "       [ 7380.00461585],\n",
       "       [10314.45971295],\n",
       "       [12385.8397815 ],\n",
       "       [12558.45478721],\n",
       "       [ 7207.38961014],\n",
       "       [ 8588.30965583],\n",
       "       [19980.90003283],\n",
       "       [ 8415.69465012],\n",
       "       [10314.45971295],\n",
       "       [ 7207.38961014],\n",
       "       [14111.98983862],\n",
       "       [ 8415.69465012],\n",
       "       [12731.06979292],\n",
       "       [16010.75490145],\n",
       "       [12731.06979292],\n",
       "       [ 7552.61962156],\n",
       "       [23260.58514136],\n",
       "       [22915.35512994],\n",
       "       [14802.44986147],\n",
       "       [12213.22477579],\n",
       "       [ 8588.30965583],\n",
       "       [10314.45971295],\n",
       "       [21189.20507282],\n",
       "       [ 7552.61962156],\n",
       "       [12731.06979292],\n",
       "       [ 7552.61962156],\n",
       "       [ 8415.69465012],\n",
       "       [10314.45971295],\n",
       "       [10659.68972438],\n",
       "       [10487.07471867],\n",
       "       [12731.06979292],\n",
       "       [22915.35512994],\n",
       "       [ 8588.30965583],\n",
       "       [12731.06979292],\n",
       "       [ 8415.69465012],\n",
       "       [ 8415.69465012],\n",
       "       [ 7552.61962156],\n",
       "       [16873.82993001],\n",
       "       [ 7552.61962156],\n",
       "       [12385.8397815 ],\n",
       "       [16010.75490145],\n",
       "       [12731.06979292],\n",
       "       [19463.0550157 ],\n",
       "       [21534.43508424],\n",
       "       [10659.68972438],\n",
       "       [16010.75490145],\n",
       "       [ 9451.38468439],\n",
       "       [ 8415.69465012],\n",
       "       [ 7207.38961014],\n",
       "       [36206.71056977],\n",
       "       [17909.51996429],\n",
       "       [21189.20507282],\n",
       "       [14457.21985005],\n",
       "       [ 8588.30965583],\n",
       "       [12731.06979292],\n",
       "       [19980.90003283],\n",
       "       [18599.97998714],\n",
       "       [12558.45478721],\n",
       "       [ 7380.00461585],\n",
       "       [ 3755.08949589],\n",
       "       [16010.75490145],\n",
       "       [18599.97998714]])"
      ]
     },
     "execution_count": 13,
     "metadata": {},
     "output_type": "execute_result"
    }
   ],
   "source": [
    "Y_pred"
   ]
  },
  {
   "cell_type": "code",
   "execution_count": 14,
   "id": "01fc4233-9614-4196-af14-5875141e4e01",
   "metadata": {},
   "outputs": [
    {
     "data": {
      "text/html": [
       "<div>\n",
       "<style scoped>\n",
       "    .dataframe tbody tr th:only-of-type {\n",
       "        vertical-align: middle;\n",
       "    }\n",
       "\n",
       "    .dataframe tbody tr th {\n",
       "        vertical-align: top;\n",
       "    }\n",
       "\n",
       "    .dataframe thead th {\n",
       "        text-align: right;\n",
       "    }\n",
       "</style>\n",
       "<table border=\"1\" class=\"dataframe\">\n",
       "  <thead>\n",
       "    <tr style=\"text-align: right;\">\n",
       "      <th></th>\n",
       "      <th>enginesize</th>\n",
       "      <th>price</th>\n",
       "      <th>pred_price</th>\n",
       "    </tr>\n",
       "  </thead>\n",
       "  <tbody>\n",
       "    <tr>\n",
       "      <th>0</th>\n",
       "      <td>136</td>\n",
       "      <td>15250.0</td>\n",
       "      <td>15147.679873</td>\n",
       "    </tr>\n",
       "    <tr>\n",
       "      <th>1</th>\n",
       "      <td>90</td>\n",
       "      <td>8916.5</td>\n",
       "      <td>7207.389610</td>\n",
       "    </tr>\n",
       "    <tr>\n",
       "      <th>2</th>\n",
       "      <td>92</td>\n",
       "      <td>8778.0</td>\n",
       "      <td>7552.619622</td>\n",
       "    </tr>\n",
       "    <tr>\n",
       "      <th>3</th>\n",
       "      <td>203</td>\n",
       "      <td>31400.5</td>\n",
       "      <td>26712.885256</td>\n",
       "    </tr>\n",
       "    <tr>\n",
       "      <th>4</th>\n",
       "      <td>92</td>\n",
       "      <td>6488.0</td>\n",
       "      <td>7552.619622</td>\n",
       "    </tr>\n",
       "  </tbody>\n",
       "</table>\n",
       "</div>"
      ],
      "text/plain": [
       "   enginesize    price    pred_price\n",
       "0         136  15250.0  15147.679873\n",
       "1          90   8916.5   7207.389610\n",
       "2          92   8778.0   7552.619622\n",
       "3         203  31400.5  26712.885256\n",
       "4          92   6488.0   7552.619622"
      ]
     },
     "execution_count": 14,
     "metadata": {},
     "output_type": "execute_result"
    }
   ],
   "source": [
    "pred_price = pd.DataFrame(Y_pred, columns=['pred_price'])\n",
    "pred_data = pred_price.join([X_test.reset_index(drop=True), Y_test.reset_index(drop=True)])\n",
    "pred_data[['enginesize', 'price', 'pred_price']].head()"
   ]
  },
  {
   "cell_type": "markdown",
   "id": "b0023b44-d7a4-4d5e-a0a5-6cf69a09e8f8",
   "metadata": {
    "tags": []
   },
   "source": [
    "#### Plot the predicted data manually"
   ]
  },
  {
   "cell_type": "code",
   "execution_count": 15,
   "id": "7bd29ac4-6a30-4bfe-9a85-51983f721113",
   "metadata": {},
   "outputs": [
    {
     "data": {
      "text/html": [
       "<div>\n",
       "<style scoped>\n",
       "    .dataframe tbody tr th:only-of-type {\n",
       "        vertical-align: middle;\n",
       "    }\n",
       "\n",
       "    .dataframe tbody tr th {\n",
       "        vertical-align: top;\n",
       "    }\n",
       "\n",
       "    .dataframe thead th {\n",
       "        text-align: right;\n",
       "    }\n",
       "</style>\n",
       "<table border=\"1\" class=\"dataframe\">\n",
       "  <thead>\n",
       "    <tr style=\"text-align: right;\">\n",
       "      <th></th>\n",
       "      <th>enginesize</th>\n",
       "      <th>price_type</th>\n",
       "      <th>price_value</th>\n",
       "    </tr>\n",
       "  </thead>\n",
       "  <tbody>\n",
       "    <tr>\n",
       "      <th>0</th>\n",
       "      <td>136</td>\n",
       "      <td>price</td>\n",
       "      <td>15250.000000</td>\n",
       "    </tr>\n",
       "    <tr>\n",
       "      <th>1</th>\n",
       "      <td>90</td>\n",
       "      <td>price</td>\n",
       "      <td>8916.500000</td>\n",
       "    </tr>\n",
       "    <tr>\n",
       "      <th>2</th>\n",
       "      <td>92</td>\n",
       "      <td>price</td>\n",
       "      <td>8778.000000</td>\n",
       "    </tr>\n",
       "    <tr>\n",
       "      <th>3</th>\n",
       "      <td>203</td>\n",
       "      <td>price</td>\n",
       "      <td>31400.500000</td>\n",
       "    </tr>\n",
       "    <tr>\n",
       "      <th>4</th>\n",
       "      <td>92</td>\n",
       "      <td>price</td>\n",
       "      <td>6488.000000</td>\n",
       "    </tr>\n",
       "    <tr>\n",
       "      <th>...</th>\n",
       "      <td>...</td>\n",
       "      <td>...</td>\n",
       "      <td>...</td>\n",
       "    </tr>\n",
       "    <tr>\n",
       "      <th>131</th>\n",
       "      <td>121</td>\n",
       "      <td>pred_price</td>\n",
       "      <td>12558.454787</td>\n",
       "    </tr>\n",
       "    <tr>\n",
       "      <th>132</th>\n",
       "      <td>91</td>\n",
       "      <td>pred_price</td>\n",
       "      <td>7380.004616</td>\n",
       "    </tr>\n",
       "    <tr>\n",
       "      <th>133</th>\n",
       "      <td>70</td>\n",
       "      <td>pred_price</td>\n",
       "      <td>3755.089496</td>\n",
       "    </tr>\n",
       "    <tr>\n",
       "      <th>134</th>\n",
       "      <td>141</td>\n",
       "      <td>pred_price</td>\n",
       "      <td>16010.754901</td>\n",
       "    </tr>\n",
       "    <tr>\n",
       "      <th>135</th>\n",
       "      <td>156</td>\n",
       "      <td>pred_price</td>\n",
       "      <td>18599.979987</td>\n",
       "    </tr>\n",
       "  </tbody>\n",
       "</table>\n",
       "<p>136 rows × 3 columns</p>\n",
       "</div>"
      ],
      "text/plain": [
       "     enginesize  price_type   price_value\n",
       "0           136       price  15250.000000\n",
       "1            90       price   8916.500000\n",
       "2            92       price   8778.000000\n",
       "3           203       price  31400.500000\n",
       "4            92       price   6488.000000\n",
       "..          ...         ...           ...\n",
       "131         121  pred_price  12558.454787\n",
       "132          91  pred_price   7380.004616\n",
       "133          70  pred_price   3755.089496\n",
       "134         141  pred_price  16010.754901\n",
       "135         156  pred_price  18599.979987\n",
       "\n",
       "[136 rows x 3 columns]"
      ]
     },
     "execution_count": 15,
     "metadata": {},
     "output_type": "execute_result"
    }
   ],
   "source": [
    "melt_pred = pred_data.melt(id_vars='enginesize', value_vars=['price', 'pred_price'], \n",
    "                           var_name='price_type', value_name='price_value')\n",
    "melt_pred"
   ]
  },
  {
   "cell_type": "code",
   "execution_count": 16,
   "id": "e07592dc-494a-43e3-80f4-ae3ce15826f0",
   "metadata": {},
   "outputs": [
    {
     "data": {
      "text/plain": [
       "<seaborn.axisgrid.FacetGrid at 0x20591b5e820>"
      ]
     },
     "execution_count": 16,
     "metadata": {},
     "output_type": "execute_result"
    },
    {
     "data": {
      "image/png": "[encoded data removed]",
      "text/plain": [
       "<Figure size 448.5x360 with 1 Axes>"
      ]
     },
     "metadata": {
      "needs_background": "light"
     },
     "output_type": "display_data"
    }
   ],
   "source": [
    "sns.relplot(data=melt_pred, x='enginesize', y='price_value', hue='price_type')"
   ]
  },
  {
   "cell_type": "markdown",
   "id": "26675db2-429b-4b4b-a484-78e98de7333f",
   "metadata": {},
   "source": [
    "#### Plot the predicted data using ***lmplot()*** method"
   ]
  },
  {
   "cell_type": "code",
   "execution_count": 17,
   "id": "98b32428-d31c-4963-a6ff-dc20ab807923",
   "metadata": {},
   "outputs": [
    {
     "data": {
      "text/plain": [
       "<seaborn.axisgrid.FacetGrid at 0x20591c1ed90>"
      ]
     },
     "execution_count": 17,
     "metadata": {},
     "output_type": "execute_result"
    },
    {
     "data": {
      "image/png": "[encoded data removed]",
      "text/plain": [
       "<Figure size 360x360 with 1 Axes>"
      ]
     },
     "metadata": {
      "needs_background": "light"
     },
     "output_type": "display_data"
    }
   ],
   "source": [
    "sns.lmplot(data=pred_data, x='enginesize', y='price', ci=None, line_kws={'color':'red'})"
   ]
  },
  {
   "cell_type": "markdown",
   "id": "cd07dcb9-05ec-440e-9833-86a6c3b17b90",
   "metadata": {},
   "source": [
    "#### Calculate and plot the residuals"
   ]
  },
  {
   "cell_type": "code",
   "execution_count": 18,
   "id": "86d1c548-868c-4cfe-9a16-a3d1c386f5fc",
   "metadata": {},
   "outputs": [
    {
     "data": {
      "text/html": [
       "<div>\n",
       "<style scoped>\n",
       "    .dataframe tbody tr th:only-of-type {\n",
       "        vertical-align: middle;\n",
       "    }\n",
       "\n",
       "    .dataframe tbody tr th {\n",
       "        vertical-align: top;\n",
       "    }\n",
       "\n",
       "    .dataframe thead th {\n",
       "        text-align: right;\n",
       "    }\n",
       "</style>\n",
       "<table border=\"1\" class=\"dataframe\">\n",
       "  <thead>\n",
       "    <tr style=\"text-align: right;\">\n",
       "      <th></th>\n",
       "      <th>pred_price</th>\n",
       "      <th>enginesize</th>\n",
       "      <th>price</th>\n",
       "      <th>residual</th>\n",
       "    </tr>\n",
       "  </thead>\n",
       "  <tbody>\n",
       "    <tr>\n",
       "      <th>0</th>\n",
       "      <td>15147.679873</td>\n",
       "      <td>136</td>\n",
       "      <td>15250.0</td>\n",
       "      <td>102.320127</td>\n",
       "    </tr>\n",
       "    <tr>\n",
       "      <th>1</th>\n",
       "      <td>7207.389610</td>\n",
       "      <td>90</td>\n",
       "      <td>8916.5</td>\n",
       "      <td>1709.110390</td>\n",
       "    </tr>\n",
       "    <tr>\n",
       "      <th>2</th>\n",
       "      <td>7552.619622</td>\n",
       "      <td>92</td>\n",
       "      <td>8778.0</td>\n",
       "      <td>1225.380378</td>\n",
       "    </tr>\n",
       "    <tr>\n",
       "      <th>3</th>\n",
       "      <td>26712.885256</td>\n",
       "      <td>203</td>\n",
       "      <td>31400.5</td>\n",
       "      <td>4687.614744</td>\n",
       "    </tr>\n",
       "    <tr>\n",
       "      <th>4</th>\n",
       "      <td>7552.619622</td>\n",
       "      <td>92</td>\n",
       "      <td>6488.0</td>\n",
       "      <td>-1064.619622</td>\n",
       "    </tr>\n",
       "  </tbody>\n",
       "</table>\n",
       "</div>"
      ],
      "text/plain": [
       "     pred_price  enginesize    price     residual\n",
       "0  15147.679873         136  15250.0   102.320127\n",
       "1   7207.389610          90   8916.5  1709.110390\n",
       "2   7552.619622          92   8778.0  1225.380378\n",
       "3  26712.885256         203  31400.5  4687.614744\n",
       "4   7552.619622          92   6488.0 -1064.619622"
      ]
     },
     "execution_count": 18,
     "metadata": {},
     "output_type": "execute_result"
    }
   ],
   "source": [
    "pred_data['residual'] = pred_data.price - pred_data.pred_price\n",
    "pred_data.head()"
   ]
  },
  {
   "cell_type": "code",
   "execution_count": 19,
   "id": "3224c7e0-10f1-4270-b9fa-0d6320ded42c",
   "metadata": {},
   "outputs": [
    {
     "data": {
      "text/plain": [
       "<matplotlib.lines.Line2D at 0x20591cc2280>"
      ]
     },
     "execution_count": 19,
     "metadata": {},
     "output_type": "execute_result"
    },
    {
     "data": {
      "image/png": "[encoded data removed]",
      "text/plain": [
       "<Figure size 360x360 with 1 Axes>"
      ]
     },
     "metadata": {
      "needs_background": "light"
     },
     "output_type": "display_data"
    }
   ],
   "source": [
    "g = sns.relplot(data=pred_data, x='enginesize', y='residual')\n",
    "g.axes.flat[0].axhline(0, ls='--', color='red')"
   ]
  },
  {
   "cell_type": "code",
   "execution_count": 20,
   "id": "9f2dd745-8ee2-4066-b22b-be2d0d27d09a",
   "metadata": {},
   "outputs": [
    {
     "data": {
      "text/plain": [
       "<AxesSubplot:xlabel='residual', ylabel='Density'>"
      ]
     },
     "execution_count": 20,
     "metadata": {},
     "output_type": "execute_result"
    },
    {
     "data": {
      "image/png": "[encoded data removed]",
      "text/plain": [
       "<Figure size 432x288 with 1 Axes>"
      ]
     },
     "metadata": {
      "needs_background": "light"
     },
     "output_type": "display_data"
    }
   ],
   "source": [
    "sns.kdeplot(data=pred_data, x='residual')"
   ]
  },
  {
   "cell_type": "markdown",
   "id": "e728b84a-0b46-47c2-936b-4d11d7955667",
   "metadata": {},
   "source": [
    "#### Using **residplot()** method"
   ]
  },
  {
   "cell_type": "code",
   "execution_count": 21,
   "id": "5a2424fb-7037-4a6e-9d86-201d15795c5f",
   "metadata": {},
   "outputs": [
    {
     "data": {
      "text/plain": [
       "<AxesSubplot:xlabel='enginesize', ylabel='price'>"
      ]
     },
     "execution_count": 21,
     "metadata": {},
     "output_type": "execute_result"
    },
    {
     "data": {
      "image/png": "[encoded data removed]",
      "text/plain": [
       "<Figure size 432x288 with 1 Axes>"
      ]
     },
     "metadata": {
      "needs_background": "light"
     },
     "output_type": "display_data"
    }
   ],
   "source": [
    "sns.residplot(data=pred_data, x='enginesize', y='price', scatter_kws={\"color\":\"purple\"})"
   ]
  },
  {
   "cell_type": "markdown",
   "id": "68fdbc19-5400-46f1-a405-996532c090e9",
   "metadata": {
    "jp-MarkdownHeadingCollapsed": true,
    "tags": []
   },
   "source": [
    "## Create a simple linear regression model using **Statsmodels** module"
   ]
  },
  {
   "cell_type": "code",
   "execution_count": 22,
   "id": "8b2192da-e1b0-4631-b9b3-1ee835307325",
   "metadata": {},
   "outputs": [],
   "source": [
    "from statsmodels.formula.api import ols"
   ]
  },
  {
   "cell_type": "code",
   "execution_count": 23,
   "id": "24a7ead8-f664-4d4c-8549-d4cad83d5cfc",
   "metadata": {},
   "outputs": [
    {
     "data": {
      "text/plain": [
       "Intercept    -8005.445531\n",
       "enginesize     167.698416\n",
       "dtype: float64"
      ]
     },
     "execution_count": 23,
     "metadata": {},
     "output_type": "execute_result"
    }
   ],
   "source": [
    "model_ols = ols(\"price ~ enginesize\", data=cars).fit()\n",
    "model_ols.params"
   ]
  },
  {
   "cell_type": "code",
   "execution_count": 24,
   "id": "f5f5a80d-96c4-4589-801e-9be1a524b235",
   "metadata": {},
   "outputs": [
    {
     "name": "stdout",
     "output_type": "stream",
     "text": [
      "The linear regression equation is: Y = 167.698X + -8005.446\n"
     ]
    }
   ],
   "source": [
    "print(f\"The linear regression equation is: Y = {model_ols.params.enginesize:.3f}X + {model_ols.params.Intercept:.3f}\")"
   ]
  },
  {
   "cell_type": "code",
   "execution_count": 25,
   "id": "cf23be67-0d59-468b-8776-c044c56f17a5",
   "metadata": {},
   "outputs": [],
   "source": [
    "prediction = cars.sort_values('enginesize')[['enginesize', 'price']]\n",
    "prediction['pred_price'] = model_ols.predict(prediction.enginesize)\n",
    "prediction['residual'] = prediction.price - prediction.pred_price"
   ]
  },
  {
   "cell_type": "code",
   "execution_count": 26,
   "id": "f93b9ed2-88d8-4436-afd3-938eaa6b5d96",
   "metadata": {},
   "outputs": [],
   "source": [
    "prediction = prediction.join(pd.Series(model_ols.resid, name=\"model_residual\"))"
   ]
  },
  {
   "cell_type": "code",
   "execution_count": 27,
   "id": "d2dcb069-abfe-4fa6-b26c-c2dc191ec0c3",
   "metadata": {},
   "outputs": [
    {
     "data": {
      "text/html": [
       "<div>\n",
       "<style scoped>\n",
       "    .dataframe tbody tr th:only-of-type {\n",
       "        vertical-align: middle;\n",
       "    }\n",
       "\n",
       "    .dataframe tbody tr th {\n",
       "        vertical-align: top;\n",
       "    }\n",
       "\n",
       "    .dataframe thead th {\n",
       "        text-align: right;\n",
       "    }\n",
       "</style>\n",
       "<table border=\"1\" class=\"dataframe\">\n",
       "  <thead>\n",
       "    <tr style=\"text-align: right;\">\n",
       "      <th></th>\n",
       "      <th>enginesize</th>\n",
       "      <th>price</th>\n",
       "      <th>pred_price</th>\n",
       "      <th>residual</th>\n",
       "      <th>model_residual</th>\n",
       "    </tr>\n",
       "  </thead>\n",
       "  <tbody>\n",
       "    <tr>\n",
       "      <th>18</th>\n",
       "      <td>61</td>\n",
       "      <td>5151.0</td>\n",
       "      <td>2224.157869</td>\n",
       "      <td>2926.842131</td>\n",
       "      <td>2926.842131</td>\n",
       "    </tr>\n",
       "    <tr>\n",
       "      <th>57</th>\n",
       "      <td>70</td>\n",
       "      <td>13645.0</td>\n",
       "      <td>3733.443616</td>\n",
       "      <td>9911.556384</td>\n",
       "      <td>9911.556384</td>\n",
       "    </tr>\n",
       "    <tr>\n",
       "      <th>55</th>\n",
       "      <td>70</td>\n",
       "      <td>10945.0</td>\n",
       "      <td>3733.443616</td>\n",
       "      <td>7211.556384</td>\n",
       "      <td>7211.556384</td>\n",
       "    </tr>\n",
       "    <tr>\n",
       "      <th>56</th>\n",
       "      <td>70</td>\n",
       "      <td>11845.0</td>\n",
       "      <td>3733.443616</td>\n",
       "      <td>8111.556384</td>\n",
       "      <td>8111.556384</td>\n",
       "    </tr>\n",
       "    <tr>\n",
       "      <th>32</th>\n",
       "      <td>79</td>\n",
       "      <td>5399.0</td>\n",
       "      <td>5242.729364</td>\n",
       "      <td>156.270636</td>\n",
       "      <td>156.270636</td>\n",
       "    </tr>\n",
       "  </tbody>\n",
       "</table>\n",
       "</div>"
      ],
      "text/plain": [
       "    enginesize    price   pred_price     residual  model_residual\n",
       "18          61   5151.0  2224.157869  2926.842131     2926.842131\n",
       "57          70  13645.0  3733.443616  9911.556384     9911.556384\n",
       "55          70  10945.0  3733.443616  7211.556384     7211.556384\n",
       "56          70  11845.0  3733.443616  8111.556384     8111.556384\n",
       "32          79   5399.0  5242.729364   156.270636      156.270636"
      ]
     },
     "execution_count": 27,
     "metadata": {},
     "output_type": "execute_result"
    }
   ],
   "source": [
    "prediction.head()"
   ]
  },
  {
   "cell_type": "code",
   "execution_count": 28,
   "id": "fe70b40c-5d76-4390-a186-8be95072dcff",
   "metadata": {},
   "outputs": [
    {
     "data": {
      "text/plain": [
       "<matplotlib.lines.Line2D at 0x2059214b1c0>"
      ]
     },
     "execution_count": 28,
     "metadata": {},
     "output_type": "execute_result"
    },
    {
     "data": {
      "image/png": "[encoded data removed]",
      "text/plain": [
       "<Figure size 432x288 with 1 Axes>"
      ]
     },
     "metadata": {
      "needs_background": "light"
     },
     "output_type": "display_data"
    }
   ],
   "source": [
    "ax = sns.scatterplot(data=prediction, x='enginesize', y='residual')\n",
    "ax.axhline(0, ls='--', color='red')"
   ]
  },
  {
   "cell_type": "code",
   "execution_count": 29,
   "id": "1c8374d0-ba16-490e-ac52-015ebb950385",
   "metadata": {},
   "outputs": [
    {
     "data": {
      "text/html": [
       "<div>\n",
       "<style scoped>\n",
       "    .dataframe tbody tr th:only-of-type {\n",
       "        vertical-align: middle;\n",
       "    }\n",
       "\n",
       "    .dataframe tbody tr th {\n",
       "        vertical-align: top;\n",
       "    }\n",
       "\n",
       "    .dataframe thead th {\n",
       "        text-align: right;\n",
       "    }\n",
       "</style>\n",
       "<table border=\"1\" class=\"dataframe\">\n",
       "  <thead>\n",
       "    <tr style=\"text-align: right;\">\n",
       "      <th></th>\n",
       "      <th>enginesize</th>\n",
       "      <th>price_type</th>\n",
       "      <th>price_value</th>\n",
       "    </tr>\n",
       "  </thead>\n",
       "  <tbody>\n",
       "    <tr>\n",
       "      <th>0</th>\n",
       "      <td>61</td>\n",
       "      <td>price</td>\n",
       "      <td>5151.0</td>\n",
       "    </tr>\n",
       "    <tr>\n",
       "      <th>1</th>\n",
       "      <td>70</td>\n",
       "      <td>price</td>\n",
       "      <td>13645.0</td>\n",
       "    </tr>\n",
       "    <tr>\n",
       "      <th>2</th>\n",
       "      <td>70</td>\n",
       "      <td>price</td>\n",
       "      <td>10945.0</td>\n",
       "    </tr>\n",
       "    <tr>\n",
       "      <th>3</th>\n",
       "      <td>70</td>\n",
       "      <td>price</td>\n",
       "      <td>11845.0</td>\n",
       "    </tr>\n",
       "    <tr>\n",
       "      <th>4</th>\n",
       "      <td>79</td>\n",
       "      <td>price</td>\n",
       "      <td>5399.0</td>\n",
       "    </tr>\n",
       "  </tbody>\n",
       "</table>\n",
       "</div>"
      ],
      "text/plain": [
       "   enginesize price_type  price_value\n",
       "0          61      price       5151.0\n",
       "1          70      price      13645.0\n",
       "2          70      price      10945.0\n",
       "3          70      price      11845.0\n",
       "4          79      price       5399.0"
      ]
     },
     "execution_count": 29,
     "metadata": {},
     "output_type": "execute_result"
    }
   ],
   "source": [
    "melt = prediction.melt(id_vars='enginesize', value_vars=['price', 'pred_price'], \n",
    "                       var_name='price_type', value_name='price_value')\n",
    "melt.head()"
   ]
  },
  {
   "cell_type": "code",
   "execution_count": 30,
   "id": "5942be4f-00c4-4474-ac13-0ceb41ea23c1",
   "metadata": {},
   "outputs": [
    {
     "data": {
      "text/plain": [
       "<seaborn.axisgrid.FacetGrid at 0x2059262bfa0>"
      ]
     },
     "execution_count": 30,
     "metadata": {},
     "output_type": "execute_result"
    },
    {
     "data": {
      "image/png": "[encoded data removed]",
      "text/plain": [
       "<Figure size 448.5x360 with 1 Axes>"
      ]
     },
     "metadata": {
      "needs_background": "light"
     },
     "output_type": "display_data"
    }
   ],
   "source": [
    "sns.relplot(data=melt, x='enginesize', y='price_value', hue='price_type', palette=['blue', 'red'])"
   ]
  },
  {
   "cell_type": "markdown",
   "id": "a22b46a3-8218-4977-ae79-a46277ef658a",
   "metadata": {
    "tags": []
   },
   "source": [
    "# Multiple Regression Model"
   ]
  },
  {
   "cell_type": "markdown",
   "id": "9b3412b4-1101-45c7-8e1f-8651d12a2a17",
   "metadata": {
    "tags": []
   },
   "source": [
    "## Work with numeric variable"
   ]
  },
  {
   "cell_type": "code",
   "execution_count": 31,
   "id": "6034f7b2-85ed-4a1b-8e29-cf0be5a4752c",
   "metadata": {},
   "outputs": [],
   "source": [
    "from sklearn.model_selection import train_test_split"
   ]
  },
  {
   "cell_type": "code",
   "execution_count": 32,
   "id": "d6ca370a-a23e-4a60-bda7-e534e6987cac",
   "metadata": {},
   "outputs": [],
   "source": [
    "X = cars[['enginesize', 'curbweight']]\n",
    "Y = cars.price\n",
    "X_train, X_test, Y_train, Y_test = train_test_split(X, Y, test_size=0.33, random_state=20)"
   ]
  },
  {
   "cell_type": "code",
   "execution_count": 33,
   "id": "fed772bd-f50e-4243-94f0-2403a28d669c",
   "metadata": {},
   "outputs": [],
   "source": [
    "from sklearn.linear_model import LinearRegression"
   ]
  },
  {
   "cell_type": "code",
   "execution_count": 34,
   "id": "b495b846-08b9-4863-968f-c56efa1d822a",
   "metadata": {},
   "outputs": [],
   "source": [
    "mul_model = LinearRegression().fit(X_train, Y_train)"
   ]
  },
  {
   "cell_type": "code",
   "execution_count": 35,
   "id": "aaa64ac9-214c-4f92-b48e-b81909e5c349",
   "metadata": {},
   "outputs": [
    {
     "name": "stdout",
     "output_type": "stream",
     "text": [
      "The score of the training dataset is 0.800\n",
      "The score of the test dataset is 0.735\n"
     ]
    }
   ],
   "source": [
    "print(f\"The score of the training dataset is {mul_model.score(X_train, Y_train):.3f}\")\n",
    "print(f\"The score of the test dataset is {mul_model.score(X_test, Y_test):.3f}\")"
   ]
  },
  {
   "cell_type": "code",
   "execution_count": 36,
   "id": "c2960cf3-6357-44a9-b9f2-ccf674440ba4",
   "metadata": {},
   "outputs": [
    {
     "name": "stdout",
     "output_type": "stream",
     "text": [
      "The linear regression equation: Y = 116.997X1 + 5.366X2 + -14907.549050029862\n"
     ]
    }
   ],
   "source": [
    "print(f\"The linear regression equation: Y = {mul_model.coef_[0]:.3f}X1 + {mul_model.coef_[1]:.3f}X2 + {mul_model.intercept_}\")"
   ]
  },
  {
   "cell_type": "code",
   "execution_count": 37,
   "id": "a34bdf1d-a458-462a-97a5-c5e39735b926",
   "metadata": {},
   "outputs": [
    {
     "data": {
      "text/html": [
       "<div>\n",
       "<style scoped>\n",
       "    .dataframe tbody tr th:only-of-type {\n",
       "        vertical-align: middle;\n",
       "    }\n",
       "\n",
       "    .dataframe tbody tr th {\n",
       "        vertical-align: top;\n",
       "    }\n",
       "\n",
       "    .dataframe thead th {\n",
       "        text-align: right;\n",
       "    }\n",
       "</style>\n",
       "<table border=\"1\" class=\"dataframe\">\n",
       "  <thead>\n",
       "    <tr style=\"text-align: right;\">\n",
       "      <th></th>\n",
       "      <th>enginesize</th>\n",
       "      <th>curbweight</th>\n",
       "      <th>price</th>\n",
       "      <th>pred_price</th>\n",
       "    </tr>\n",
       "  </thead>\n",
       "  <tbody>\n",
       "    <tr>\n",
       "      <th>0</th>\n",
       "      <td>136</td>\n",
       "      <td>2507</td>\n",
       "      <td>15250.0</td>\n",
       "      <td>14457.256312</td>\n",
       "    </tr>\n",
       "    <tr>\n",
       "      <th>1</th>\n",
       "      <td>90</td>\n",
       "      <td>1874</td>\n",
       "      <td>8916.5</td>\n",
       "      <td>5678.554646</td>\n",
       "    </tr>\n",
       "    <tr>\n",
       "      <th>2</th>\n",
       "      <td>92</td>\n",
       "      <td>3110</td>\n",
       "      <td>8778.0</td>\n",
       "      <td>12545.261389</td>\n",
       "    </tr>\n",
       "    <tr>\n",
       "      <th>3</th>\n",
       "      <td>203</td>\n",
       "      <td>3366</td>\n",
       "      <td>31400.5</td>\n",
       "      <td>26905.667600</td>\n",
       "    </tr>\n",
       "    <tr>\n",
       "      <th>4</th>\n",
       "      <td>92</td>\n",
       "      <td>2015</td>\n",
       "      <td>6488.0</td>\n",
       "      <td>6669.192636</td>\n",
       "    </tr>\n",
       "  </tbody>\n",
       "</table>\n",
       "</div>"
      ],
      "text/plain": [
       "   enginesize  curbweight    price    pred_price\n",
       "0         136        2507  15250.0  14457.256312\n",
       "1          90        1874   8916.5   5678.554646\n",
       "2          92        3110   8778.0  12545.261389\n",
       "3         203        3366  31400.5  26905.667600\n",
       "4          92        2015   6488.0   6669.192636"
      ]
     },
     "execution_count": 37,
     "metadata": {},
     "output_type": "execute_result"
    }
   ],
   "source": [
    "Y_pred = mul_model.predict(X_test)\n",
    "\n",
    "predicted = pd.DataFrame(Y_pred, columns=['pred_price'])\n",
    "predicted = predicted.join([X_test.reset_index(drop=True), Y_test.reset_index(drop=True)])\n",
    "predicted = predicted[['enginesize', 'curbweight', 'price', 'pred_price']]\n",
    "predicted.head()"
   ]
  },
  {
   "cell_type": "markdown",
   "id": "4742ee56-63cc-4744-a86c-ab8d18f9c606",
   "metadata": {},
   "source": [
    "#### Calculate and plot the residuals"
   ]
  },
  {
   "cell_type": "code",
   "execution_count": 38,
   "id": "7b13d241-0754-4744-a835-f781e4384b20",
   "metadata": {},
   "outputs": [
    {
     "data": {
      "text/html": [
       "<div>\n",
       "<style scoped>\n",
       "    .dataframe tbody tr th:only-of-type {\n",
       "        vertical-align: middle;\n",
       "    }\n",
       "\n",
       "    .dataframe tbody tr th {\n",
       "        vertical-align: top;\n",
       "    }\n",
       "\n",
       "    .dataframe thead th {\n",
       "        text-align: right;\n",
       "    }\n",
       "</style>\n",
       "<table border=\"1\" class=\"dataframe\">\n",
       "  <thead>\n",
       "    <tr style=\"text-align: right;\">\n",
       "      <th></th>\n",
       "      <th>enginesize</th>\n",
       "      <th>curbweight</th>\n",
       "      <th>price</th>\n",
       "      <th>pred_price</th>\n",
       "      <th>residual</th>\n",
       "    </tr>\n",
       "  </thead>\n",
       "  <tbody>\n",
       "    <tr>\n",
       "      <th>0</th>\n",
       "      <td>136</td>\n",
       "      <td>2507</td>\n",
       "      <td>15250.0</td>\n",
       "      <td>14457.256312</td>\n",
       "      <td>792.743688</td>\n",
       "    </tr>\n",
       "    <tr>\n",
       "      <th>1</th>\n",
       "      <td>90</td>\n",
       "      <td>1874</td>\n",
       "      <td>8916.5</td>\n",
       "      <td>5678.554646</td>\n",
       "      <td>3237.945354</td>\n",
       "    </tr>\n",
       "    <tr>\n",
       "      <th>2</th>\n",
       "      <td>92</td>\n",
       "      <td>3110</td>\n",
       "      <td>8778.0</td>\n",
       "      <td>12545.261389</td>\n",
       "      <td>-3767.261389</td>\n",
       "    </tr>\n",
       "    <tr>\n",
       "      <th>3</th>\n",
       "      <td>203</td>\n",
       "      <td>3366</td>\n",
       "      <td>31400.5</td>\n",
       "      <td>26905.667600</td>\n",
       "      <td>4494.832400</td>\n",
       "    </tr>\n",
       "    <tr>\n",
       "      <th>4</th>\n",
       "      <td>92</td>\n",
       "      <td>2015</td>\n",
       "      <td>6488.0</td>\n",
       "      <td>6669.192636</td>\n",
       "      <td>-181.192636</td>\n",
       "    </tr>\n",
       "  </tbody>\n",
       "</table>\n",
       "</div>"
      ],
      "text/plain": [
       "   enginesize  curbweight    price    pred_price     residual\n",
       "0         136        2507  15250.0  14457.256312   792.743688\n",
       "1          90        1874   8916.5   5678.554646  3237.945354\n",
       "2          92        3110   8778.0  12545.261389 -3767.261389\n",
       "3         203        3366  31400.5  26905.667600  4494.832400\n",
       "4          92        2015   6488.0   6669.192636  -181.192636"
      ]
     },
     "execution_count": 38,
     "metadata": {},
     "output_type": "execute_result"
    }
   ],
   "source": [
    "predicted['residual'] = predicted.price - predicted.pred_price\n",
    "predicted.head()"
   ]
  },
  {
   "cell_type": "code",
   "execution_count": 39,
   "id": "26a43275-7d2e-4aac-8c1b-2a05c18e4cb7",
   "metadata": {},
   "outputs": [
    {
     "data": {
      "text/plain": [
       "<AxesSubplot:xlabel='residual', ylabel='Density'>"
      ]
     },
     "execution_count": 39,
     "metadata": {},
     "output_type": "execute_result"
    },
    {
     "data": {
      "image/png": "[encoded data removed]",
      "text/plain": [
       "<Figure size 432x288 with 1 Axes>"
      ]
     },
     "metadata": {
      "needs_background": "light"
     },
     "output_type": "display_data"
    }
   ],
   "source": [
    "sns.kdeplot(data=predicted, x='residual',)"
   ]
  },
  {
   "cell_type": "markdown",
   "id": "d81d71c3-1d1a-41a7-b233-0b7a945f15c2",
   "metadata": {},
   "source": [
    "- Compared to the KDE plot for the residuals from the simple regression above, the KDE plot for the residuals from the multiple regression is pretty similar.  \n",
    "- However, the curve from the multiple regression has compressed inward, which indicates that the predictions improved a little.\n"
   ]
  },
  {
   "cell_type": "markdown",
   "id": "6c333cf9-41a4-4460-bd3b-8bed19a74384",
   "metadata": {
    "tags": []
   },
   "source": [
    "## Work with categorical variables"
   ]
  },
  {
   "cell_type": "code",
   "execution_count": 40,
   "id": "312df956-c6ca-42d5-afba-048b2183f836",
   "metadata": {},
   "outputs": [
    {
     "data": {
      "text/plain": [
       "car_ID              205\n",
       "symboling             6\n",
       "CarName             147\n",
       "fueltype              2\n",
       "aspiration            2\n",
       "doornumber            2\n",
       "carbody               5\n",
       "drivewheel            3\n",
       "enginelocation        2\n",
       "wheelbase            53\n",
       "carlength            75\n",
       "carwidth             44\n",
       "carheight            49\n",
       "curbweight          171\n",
       "enginetype            7\n",
       "cylindernumber        7\n",
       "enginesize           44\n",
       "fuelsystem            8\n",
       "boreratio            38\n",
       "stroke               37\n",
       "compressionratio     32\n",
       "horsepower           59\n",
       "peakrpm              23\n",
       "citympg              29\n",
       "highwaympg           30\n",
       "price               189\n",
       "dtype: int64"
      ]
     },
     "execution_count": 40,
     "metadata": {},
     "output_type": "execute_result"
    }
   ],
   "source": [
    "cars.nunique()"
   ]
  },
  {
   "cell_type": "markdown",
   "id": "4d3668c0-785f-4d78-ba73-f14f08dd6c88",
   "metadata": {},
   "source": [
    "- The **fueltype**, **aspiration**, **doornumber**, **enginelocation** columns have only two unique values, so they are probably **dichotomous** variables.\n",
    "- The **symboling**, **carbody**, **drivewheel**, **enginetype**, **cylindernumber**, **fuelsystem** columns have more than two values but much fewer than the other columns, so they can be either **nominal** or **ordinal** varibles."
   ]
  },
  {
   "cell_type": "code",
   "execution_count": 41,
   "id": "da3e9646-a5fd-4fda-9b1e-50a9d9951937",
   "metadata": {},
   "outputs": [
    {
     "data": {
      "text/html": [
       "<div>\n",
       "<style scoped>\n",
       "    .dataframe tbody tr th:only-of-type {\n",
       "        vertical-align: middle;\n",
       "    }\n",
       "\n",
       "    .dataframe tbody tr th {\n",
       "        vertical-align: top;\n",
       "    }\n",
       "\n",
       "    .dataframe thead th {\n",
       "        text-align: right;\n",
       "    }\n",
       "</style>\n",
       "<table border=\"1\" class=\"dataframe\">\n",
       "  <thead>\n",
       "    <tr style=\"text-align: right;\">\n",
       "      <th></th>\n",
       "      <th>fueltype</th>\n",
       "    </tr>\n",
       "  </thead>\n",
       "  <tbody>\n",
       "    <tr>\n",
       "      <th>gas</th>\n",
       "      <td>185</td>\n",
       "    </tr>\n",
       "    <tr>\n",
       "      <th>diesel</th>\n",
       "      <td>20</td>\n",
       "    </tr>\n",
       "  </tbody>\n",
       "</table>\n",
       "</div>"
      ],
      "text/plain": [
       "        fueltype\n",
       "gas          185\n",
       "diesel        20"
      ]
     },
     "metadata": {},
     "output_type": "display_data"
    },
    {
     "data": {
      "text/html": [
       "<div>\n",
       "<style scoped>\n",
       "    .dataframe tbody tr th:only-of-type {\n",
       "        vertical-align: middle;\n",
       "    }\n",
       "\n",
       "    .dataframe tbody tr th {\n",
       "        vertical-align: top;\n",
       "    }\n",
       "\n",
       "    .dataframe thead th {\n",
       "        text-align: right;\n",
       "    }\n",
       "</style>\n",
       "<table border=\"1\" class=\"dataframe\">\n",
       "  <thead>\n",
       "    <tr style=\"text-align: right;\">\n",
       "      <th></th>\n",
       "      <th>aspiration</th>\n",
       "    </tr>\n",
       "  </thead>\n",
       "  <tbody>\n",
       "    <tr>\n",
       "      <th>std</th>\n",
       "      <td>168</td>\n",
       "    </tr>\n",
       "    <tr>\n",
       "      <th>turbo</th>\n",
       "      <td>37</td>\n",
       "    </tr>\n",
       "  </tbody>\n",
       "</table>\n",
       "</div>"
      ],
      "text/plain": [
       "       aspiration\n",
       "std           168\n",
       "turbo          37"
      ]
     },
     "metadata": {},
     "output_type": "display_data"
    },
    {
     "data": {
      "text/html": [
       "<div>\n",
       "<style scoped>\n",
       "    .dataframe tbody tr th:only-of-type {\n",
       "        vertical-align: middle;\n",
       "    }\n",
       "\n",
       "    .dataframe tbody tr th {\n",
       "        vertical-align: top;\n",
       "    }\n",
       "\n",
       "    .dataframe thead th {\n",
       "        text-align: right;\n",
       "    }\n",
       "</style>\n",
       "<table border=\"1\" class=\"dataframe\">\n",
       "  <thead>\n",
       "    <tr style=\"text-align: right;\">\n",
       "      <th></th>\n",
       "      <th>doornumber</th>\n",
       "    </tr>\n",
       "  </thead>\n",
       "  <tbody>\n",
       "    <tr>\n",
       "      <th>four</th>\n",
       "      <td>115</td>\n",
       "    </tr>\n",
       "    <tr>\n",
       "      <th>two</th>\n",
       "      <td>90</td>\n",
       "    </tr>\n",
       "  </tbody>\n",
       "</table>\n",
       "</div>"
      ],
      "text/plain": [
       "      doornumber\n",
       "four         115\n",
       "two           90"
      ]
     },
     "metadata": {},
     "output_type": "display_data"
    },
    {
     "data": {
      "text/html": [
       "<div>\n",
       "<style scoped>\n",
       "    .dataframe tbody tr th:only-of-type {\n",
       "        vertical-align: middle;\n",
       "    }\n",
       "\n",
       "    .dataframe tbody tr th {\n",
       "        vertical-align: top;\n",
       "    }\n",
       "\n",
       "    .dataframe thead th {\n",
       "        text-align: right;\n",
       "    }\n",
       "</style>\n",
       "<table border=\"1\" class=\"dataframe\">\n",
       "  <thead>\n",
       "    <tr style=\"text-align: right;\">\n",
       "      <th></th>\n",
       "      <th>enginelocation</th>\n",
       "    </tr>\n",
       "  </thead>\n",
       "  <tbody>\n",
       "    <tr>\n",
       "      <th>front</th>\n",
       "      <td>202</td>\n",
       "    </tr>\n",
       "    <tr>\n",
       "      <th>rear</th>\n",
       "      <td>3</td>\n",
       "    </tr>\n",
       "  </tbody>\n",
       "</table>\n",
       "</div>"
      ],
      "text/plain": [
       "       enginelocation\n",
       "front             202\n",
       "rear                3"
      ]
     },
     "metadata": {},
     "output_type": "display_data"
    },
    {
     "data": {
      "text/html": [
       "<div>\n",
       "<style scoped>\n",
       "    .dataframe tbody tr th:only-of-type {\n",
       "        vertical-align: middle;\n",
       "    }\n",
       "\n",
       "    .dataframe tbody tr th {\n",
       "        vertical-align: top;\n",
       "    }\n",
       "\n",
       "    .dataframe thead th {\n",
       "        text-align: right;\n",
       "    }\n",
       "</style>\n",
       "<table border=\"1\" class=\"dataframe\">\n",
       "  <thead>\n",
       "    <tr style=\"text-align: right;\">\n",
       "      <th></th>\n",
       "      <th>symboling</th>\n",
       "    </tr>\n",
       "  </thead>\n",
       "  <tbody>\n",
       "    <tr>\n",
       "      <th>0</th>\n",
       "      <td>67</td>\n",
       "    </tr>\n",
       "    <tr>\n",
       "      <th>1</th>\n",
       "      <td>54</td>\n",
       "    </tr>\n",
       "    <tr>\n",
       "      <th>2</th>\n",
       "      <td>32</td>\n",
       "    </tr>\n",
       "    <tr>\n",
       "      <th>3</th>\n",
       "      <td>27</td>\n",
       "    </tr>\n",
       "    <tr>\n",
       "      <th>-1</th>\n",
       "      <td>22</td>\n",
       "    </tr>\n",
       "    <tr>\n",
       "      <th>-2</th>\n",
       "      <td>3</td>\n",
       "    </tr>\n",
       "  </tbody>\n",
       "</table>\n",
       "</div>"
      ],
      "text/plain": [
       "    symboling\n",
       " 0         67\n",
       " 1         54\n",
       " 2         32\n",
       " 3         27\n",
       "-1         22\n",
       "-2          3"
      ]
     },
     "metadata": {},
     "output_type": "display_data"
    },
    {
     "data": {
      "text/html": [
       "<div>\n",
       "<style scoped>\n",
       "    .dataframe tbody tr th:only-of-type {\n",
       "        vertical-align: middle;\n",
       "    }\n",
       "\n",
       "    .dataframe tbody tr th {\n",
       "        vertical-align: top;\n",
       "    }\n",
       "\n",
       "    .dataframe thead th {\n",
       "        text-align: right;\n",
       "    }\n",
       "</style>\n",
       "<table border=\"1\" class=\"dataframe\">\n",
       "  <thead>\n",
       "    <tr style=\"text-align: right;\">\n",
       "      <th></th>\n",
       "      <th>carbody</th>\n",
       "    </tr>\n",
       "  </thead>\n",
       "  <tbody>\n",
       "    <tr>\n",
       "      <th>sedan</th>\n",
       "      <td>96</td>\n",
       "    </tr>\n",
       "    <tr>\n",
       "      <th>hatchback</th>\n",
       "      <td>70</td>\n",
       "    </tr>\n",
       "    <tr>\n",
       "      <th>wagon</th>\n",
       "      <td>25</td>\n",
       "    </tr>\n",
       "    <tr>\n",
       "      <th>hardtop</th>\n",
       "      <td>8</td>\n",
       "    </tr>\n",
       "    <tr>\n",
       "      <th>convertible</th>\n",
       "      <td>6</td>\n",
       "    </tr>\n",
       "  </tbody>\n",
       "</table>\n",
       "</div>"
      ],
      "text/plain": [
       "             carbody\n",
       "sedan             96\n",
       "hatchback         70\n",
       "wagon             25\n",
       "hardtop            8\n",
       "convertible        6"
      ]
     },
     "metadata": {},
     "output_type": "display_data"
    },
    {
     "data": {
      "text/html": [
       "<div>\n",
       "<style scoped>\n",
       "    .dataframe tbody tr th:only-of-type {\n",
       "        vertical-align: middle;\n",
       "    }\n",
       "\n",
       "    .dataframe tbody tr th {\n",
       "        vertical-align: top;\n",
       "    }\n",
       "\n",
       "    .dataframe thead th {\n",
       "        text-align: right;\n",
       "    }\n",
       "</style>\n",
       "<table border=\"1\" class=\"dataframe\">\n",
       "  <thead>\n",
       "    <tr style=\"text-align: right;\">\n",
       "      <th></th>\n",
       "      <th>drivewheel</th>\n",
       "    </tr>\n",
       "  </thead>\n",
       "  <tbody>\n",
       "    <tr>\n",
       "      <th>fwd</th>\n",
       "      <td>120</td>\n",
       "    </tr>\n",
       "    <tr>\n",
       "      <th>rwd</th>\n",
       "      <td>76</td>\n",
       "    </tr>\n",
       "    <tr>\n",
       "      <th>4wd</th>\n",
       "      <td>9</td>\n",
       "    </tr>\n",
       "  </tbody>\n",
       "</table>\n",
       "</div>"
      ],
      "text/plain": [
       "     drivewheel\n",
       "fwd         120\n",
       "rwd          76\n",
       "4wd           9"
      ]
     },
     "metadata": {},
     "output_type": "display_data"
    },
    {
     "data": {
      "text/html": [
       "<div>\n",
       "<style scoped>\n",
       "    .dataframe tbody tr th:only-of-type {\n",
       "        vertical-align: middle;\n",
       "    }\n",
       "\n",
       "    .dataframe tbody tr th {\n",
       "        vertical-align: top;\n",
       "    }\n",
       "\n",
       "    .dataframe thead th {\n",
       "        text-align: right;\n",
       "    }\n",
       "</style>\n",
       "<table border=\"1\" class=\"dataframe\">\n",
       "  <thead>\n",
       "    <tr style=\"text-align: right;\">\n",
       "      <th></th>\n",
       "      <th>enginetype</th>\n",
       "    </tr>\n",
       "  </thead>\n",
       "  <tbody>\n",
       "    <tr>\n",
       "      <th>ohc</th>\n",
       "      <td>148</td>\n",
       "    </tr>\n",
       "    <tr>\n",
       "      <th>ohcf</th>\n",
       "      <td>15</td>\n",
       "    </tr>\n",
       "    <tr>\n",
       "      <th>ohcv</th>\n",
       "      <td>13</td>\n",
       "    </tr>\n",
       "    <tr>\n",
       "      <th>dohc</th>\n",
       "      <td>12</td>\n",
       "    </tr>\n",
       "    <tr>\n",
       "      <th>l</th>\n",
       "      <td>12</td>\n",
       "    </tr>\n",
       "    <tr>\n",
       "      <th>rotor</th>\n",
       "      <td>4</td>\n",
       "    </tr>\n",
       "    <tr>\n",
       "      <th>dohcv</th>\n",
       "      <td>1</td>\n",
       "    </tr>\n",
       "  </tbody>\n",
       "</table>\n",
       "</div>"
      ],
      "text/plain": [
       "       enginetype\n",
       "ohc           148\n",
       "ohcf           15\n",
       "ohcv           13\n",
       "dohc           12\n",
       "l              12\n",
       "rotor           4\n",
       "dohcv           1"
      ]
     },
     "metadata": {},
     "output_type": "display_data"
    },
    {
     "data": {
      "text/html": [
       "<div>\n",
       "<style scoped>\n",
       "    .dataframe tbody tr th:only-of-type {\n",
       "        vertical-align: middle;\n",
       "    }\n",
       "\n",
       "    .dataframe tbody tr th {\n",
       "        vertical-align: top;\n",
       "    }\n",
       "\n",
       "    .dataframe thead th {\n",
       "        text-align: right;\n",
       "    }\n",
       "</style>\n",
       "<table border=\"1\" class=\"dataframe\">\n",
       "  <thead>\n",
       "    <tr style=\"text-align: right;\">\n",
       "      <th></th>\n",
       "      <th>cylindernumber</th>\n",
       "    </tr>\n",
       "  </thead>\n",
       "  <tbody>\n",
       "    <tr>\n",
       "      <th>four</th>\n",
       "      <td>159</td>\n",
       "    </tr>\n",
       "    <tr>\n",
       "      <th>six</th>\n",
       "      <td>24</td>\n",
       "    </tr>\n",
       "    <tr>\n",
       "      <th>five</th>\n",
       "      <td>11</td>\n",
       "    </tr>\n",
       "    <tr>\n",
       "      <th>eight</th>\n",
       "      <td>5</td>\n",
       "    </tr>\n",
       "    <tr>\n",
       "      <th>two</th>\n",
       "      <td>4</td>\n",
       "    </tr>\n",
       "    <tr>\n",
       "      <th>three</th>\n",
       "      <td>1</td>\n",
       "    </tr>\n",
       "    <tr>\n",
       "      <th>twelve</th>\n",
       "      <td>1</td>\n",
       "    </tr>\n",
       "  </tbody>\n",
       "</table>\n",
       "</div>"
      ],
      "text/plain": [
       "        cylindernumber\n",
       "four               159\n",
       "six                 24\n",
       "five                11\n",
       "eight                5\n",
       "two                  4\n",
       "three                1\n",
       "twelve               1"
      ]
     },
     "metadata": {},
     "output_type": "display_data"
    },
    {
     "data": {
      "text/html": [
       "<div>\n",
       "<style scoped>\n",
       "    .dataframe tbody tr th:only-of-type {\n",
       "        vertical-align: middle;\n",
       "    }\n",
       "\n",
       "    .dataframe tbody tr th {\n",
       "        vertical-align: top;\n",
       "    }\n",
       "\n",
       "    .dataframe thead th {\n",
       "        text-align: right;\n",
       "    }\n",
       "</style>\n",
       "<table border=\"1\" class=\"dataframe\">\n",
       "  <thead>\n",
       "    <tr style=\"text-align: right;\">\n",
       "      <th></th>\n",
       "      <th>fuelsystem</th>\n",
       "    </tr>\n",
       "  </thead>\n",
       "  <tbody>\n",
       "    <tr>\n",
       "      <th>mpfi</th>\n",
       "      <td>94</td>\n",
       "    </tr>\n",
       "    <tr>\n",
       "      <th>2bbl</th>\n",
       "      <td>66</td>\n",
       "    </tr>\n",
       "    <tr>\n",
       "      <th>idi</th>\n",
       "      <td>20</td>\n",
       "    </tr>\n",
       "    <tr>\n",
       "      <th>1bbl</th>\n",
       "      <td>11</td>\n",
       "    </tr>\n",
       "    <tr>\n",
       "      <th>spdi</th>\n",
       "      <td>9</td>\n",
       "    </tr>\n",
       "    <tr>\n",
       "      <th>4bbl</th>\n",
       "      <td>3</td>\n",
       "    </tr>\n",
       "    <tr>\n",
       "      <th>mfi</th>\n",
       "      <td>1</td>\n",
       "    </tr>\n",
       "    <tr>\n",
       "      <th>spfi</th>\n",
       "      <td>1</td>\n",
       "    </tr>\n",
       "  </tbody>\n",
       "</table>\n",
       "</div>"
      ],
      "text/plain": [
       "      fuelsystem\n",
       "mpfi          94\n",
       "2bbl          66\n",
       "idi           20\n",
       "1bbl          11\n",
       "spdi           9\n",
       "4bbl           3\n",
       "mfi            1\n",
       "spfi           1"
      ]
     },
     "metadata": {},
     "output_type": "display_data"
    }
   ],
   "source": [
    "categories = ['fueltype', 'aspiration', 'doornumber','enginelocation',\n",
    "            'symboling', 'carbody', 'drivewheel', 'enginetype', 'cylindernumber', 'fuelsystem']\n",
    "for col in categories:\n",
    "    display(cars[col].value_counts().to_frame())  "
   ]
  },
  {
   "cell_type": "markdown",
   "id": "e6cfcd45-52d4-4131-a0d4-c8501016e449",
   "metadata": {},
   "source": [
    "Choose *well balanced variables*, which have a similar number of entries, to build a better model.  \n",
    "However, a column is well balanced does not mean that it has a high $R^2$ value.  \n",
    "In this case, the **fuelsystem**, **doornumber**, and **carbody** can be considerd well balanced variables."
   ]
  },
  {
   "cell_type": "markdown",
   "id": "60658533-0143-4443-ba1e-0d47a0046b41",
   "metadata": {},
   "source": [
    "#### Create dummy variables"
   ]
  },
  {
   "cell_type": "code",
   "execution_count": 42,
   "id": "aaf6a86a-15ac-40a0-a751-2a0c71c6835b",
   "metadata": {},
   "outputs": [
    {
     "name": "stdout",
     "output_type": "stream",
     "text": [
      "<class 'pandas.core.frame.DataFrame'>\n",
      "RangeIndex: 205 entries, 0 to 204\n",
      "Data columns (total 12 columns):\n",
      " #   Column               Non-Null Count  Dtype\n",
      "---  ------               --------------  -----\n",
      " 0   aspiration_std       205 non-null    uint8\n",
      " 1   aspiration_turbo     205 non-null    uint8\n",
      " 2   doornumber_four      205 non-null    uint8\n",
      " 3   doornumber_two       205 non-null    uint8\n",
      " 4   carbody_convertible  205 non-null    uint8\n",
      " 5   carbody_hardtop      205 non-null    uint8\n",
      " 6   carbody_hatchback    205 non-null    uint8\n",
      " 7   carbody_sedan        205 non-null    uint8\n",
      " 8   carbody_wagon        205 non-null    uint8\n",
      " 9   drivewheel_4wd       205 non-null    uint8\n",
      " 10  drivewheel_fwd       205 non-null    uint8\n",
      " 11  drivewheel_rwd       205 non-null    uint8\n",
      "dtypes: uint8(12)\n",
      "memory usage: 2.5 KB\n"
     ]
    }
   ],
   "source": [
    "cat_columns = ['aspiration', 'doornumber', 'carbody', 'drivewheel']\n",
    "dummies = pd.get_dummies(cars[cat_columns])\n",
    "dummies.info()"
   ]
  },
  {
   "cell_type": "code",
   "execution_count": 43,
   "id": "e988fbac-25c7-4453-9587-fd5009920ce1",
   "metadata": {},
   "outputs": [
    {
     "name": "stdout",
     "output_type": "stream",
     "text": [
      "<class 'pandas.core.frame.DataFrame'>\n",
      "RangeIndex: 205 entries, 0 to 204\n",
      "Data columns (total 34 columns):\n",
      " #   Column               Non-Null Count  Dtype  \n",
      "---  ------               --------------  -----  \n",
      " 0   car_ID               205 non-null    int64  \n",
      " 1   symboling            205 non-null    int64  \n",
      " 2   CarName              205 non-null    object \n",
      " 3   fueltype             205 non-null    object \n",
      " 4   enginelocation       205 non-null    object \n",
      " 5   wheelbase            205 non-null    float64\n",
      " 6   carlength            205 non-null    float64\n",
      " 7   carwidth             205 non-null    float64\n",
      " 8   carheight            205 non-null    float64\n",
      " 9   curbweight           205 non-null    int64  \n",
      " 10  enginetype           205 non-null    object \n",
      " 11  cylindernumber       205 non-null    object \n",
      " 12  enginesize           205 non-null    int64  \n",
      " 13  fuelsystem           205 non-null    object \n",
      " 14  boreratio            205 non-null    float64\n",
      " 15  stroke               205 non-null    float64\n",
      " 16  compressionratio     205 non-null    float64\n",
      " 17  horsepower           205 non-null    int64  \n",
      " 18  peakrpm              205 non-null    int64  \n",
      " 19  citympg              205 non-null    int64  \n",
      " 20  highwaympg           205 non-null    int64  \n",
      " 21  price                205 non-null    float64\n",
      " 22  aspiration_std       205 non-null    uint8  \n",
      " 23  aspiration_turbo     205 non-null    uint8  \n",
      " 24  doornumber_four      205 non-null    uint8  \n",
      " 25  doornumber_two       205 non-null    uint8  \n",
      " 26  carbody_convertible  205 non-null    uint8  \n",
      " 27  carbody_hardtop      205 non-null    uint8  \n",
      " 28  carbody_hatchback    205 non-null    uint8  \n",
      " 29  carbody_sedan        205 non-null    uint8  \n",
      " 30  carbody_wagon        205 non-null    uint8  \n",
      " 31  drivewheel_4wd       205 non-null    uint8  \n",
      " 32  drivewheel_fwd       205 non-null    uint8  \n",
      " 33  drivewheel_rwd       205 non-null    uint8  \n",
      "dtypes: float64(8), int64(8), object(6), uint8(12)\n",
      "memory usage: 37.8+ KB\n"
     ]
    }
   ],
   "source": [
    "# Comebine the dummy variables with the original DataFrame and drop the original categorical columns.\n",
    "\n",
    "cars_dummies = cars.drop(columns=cat_columns).join(dummies)\n",
    "cars_dummies.info()"
   ]
  },
  {
   "cell_type": "code",
   "execution_count": 44,
   "id": "06596729-191b-42ae-968f-f8cbf03d1d8e",
   "metadata": {},
   "outputs": [
    {
     "data": {
      "text/html": [
       "<div>\n",
       "<style scoped>\n",
       "    .dataframe tbody tr th:only-of-type {\n",
       "        vertical-align: middle;\n",
       "    }\n",
       "\n",
       "    .dataframe tbody tr th {\n",
       "        vertical-align: top;\n",
       "    }\n",
       "\n",
       "    .dataframe thead th {\n",
       "        text-align: right;\n",
       "    }\n",
       "</style>\n",
       "<table border=\"1\" class=\"dataframe\">\n",
       "  <thead>\n",
       "    <tr style=\"text-align: right;\">\n",
       "      <th></th>\n",
       "      <th>car_ID</th>\n",
       "      <th>symboling</th>\n",
       "      <th>CarName</th>\n",
       "      <th>fueltype</th>\n",
       "      <th>enginelocation</th>\n",
       "      <th>wheelbase</th>\n",
       "      <th>carlength</th>\n",
       "      <th>carwidth</th>\n",
       "      <th>carheight</th>\n",
       "      <th>curbweight</th>\n",
       "      <th>enginetype</th>\n",
       "      <th>cylindernumber</th>\n",
       "      <th>enginesize</th>\n",
       "      <th>fuelsystem</th>\n",
       "      <th>boreratio</th>\n",
       "      <th>stroke</th>\n",
       "      <th>compressionratio</th>\n",
       "      <th>horsepower</th>\n",
       "      <th>peakrpm</th>\n",
       "      <th>citympg</th>\n",
       "      <th>highwaympg</th>\n",
       "      <th>price</th>\n",
       "      <th>aspiration_std</th>\n",
       "      <th>aspiration_turbo</th>\n",
       "      <th>doornumber_four</th>\n",
       "      <th>doornumber_two</th>\n",
       "      <th>carbody_convertible</th>\n",
       "      <th>carbody_hardtop</th>\n",
       "      <th>carbody_hatchback</th>\n",
       "      <th>carbody_sedan</th>\n",
       "      <th>carbody_wagon</th>\n",
       "      <th>drivewheel_4wd</th>\n",
       "      <th>drivewheel_fwd</th>\n",
       "      <th>drivewheel_rwd</th>\n",
       "    </tr>\n",
       "  </thead>\n",
       "  <tbody>\n",
       "    <tr>\n",
       "      <th>0</th>\n",
       "      <td>1</td>\n",
       "      <td>3</td>\n",
       "      <td>alfa-romero giulia</td>\n",
       "      <td>gas</td>\n",
       "      <td>front</td>\n",
       "      <td>88.6</td>\n",
       "      <td>168.8</td>\n",
       "      <td>64.1</td>\n",
       "      <td>48.8</td>\n",
       "      <td>2548</td>\n",
       "      <td>dohc</td>\n",
       "      <td>four</td>\n",
       "      <td>130</td>\n",
       "      <td>mpfi</td>\n",
       "      <td>3.47</td>\n",
       "      <td>2.68</td>\n",
       "      <td>9.0</td>\n",
       "      <td>111</td>\n",
       "      <td>5000</td>\n",
       "      <td>21</td>\n",
       "      <td>27</td>\n",
       "      <td>13495.0</td>\n",
       "      <td>1</td>\n",
       "      <td>0</td>\n",
       "      <td>0</td>\n",
       "      <td>1</td>\n",
       "      <td>1</td>\n",
       "      <td>0</td>\n",
       "      <td>0</td>\n",
       "      <td>0</td>\n",
       "      <td>0</td>\n",
       "      <td>0</td>\n",
       "      <td>0</td>\n",
       "      <td>1</td>\n",
       "    </tr>\n",
       "    <tr>\n",
       "      <th>1</th>\n",
       "      <td>2</td>\n",
       "      <td>3</td>\n",
       "      <td>alfa-romero stelvio</td>\n",
       "      <td>gas</td>\n",
       "      <td>front</td>\n",
       "      <td>88.6</td>\n",
       "      <td>168.8</td>\n",
       "      <td>64.1</td>\n",
       "      <td>48.8</td>\n",
       "      <td>2548</td>\n",
       "      <td>dohc</td>\n",
       "      <td>four</td>\n",
       "      <td>130</td>\n",
       "      <td>mpfi</td>\n",
       "      <td>3.47</td>\n",
       "      <td>2.68</td>\n",
       "      <td>9.0</td>\n",
       "      <td>111</td>\n",
       "      <td>5000</td>\n",
       "      <td>21</td>\n",
       "      <td>27</td>\n",
       "      <td>16500.0</td>\n",
       "      <td>1</td>\n",
       "      <td>0</td>\n",
       "      <td>0</td>\n",
       "      <td>1</td>\n",
       "      <td>1</td>\n",
       "      <td>0</td>\n",
       "      <td>0</td>\n",
       "      <td>0</td>\n",
       "      <td>0</td>\n",
       "      <td>0</td>\n",
       "      <td>0</td>\n",
       "      <td>1</td>\n",
       "    </tr>\n",
       "    <tr>\n",
       "      <th>2</th>\n",
       "      <td>3</td>\n",
       "      <td>1</td>\n",
       "      <td>alfa-romero Quadrifoglio</td>\n",
       "      <td>gas</td>\n",
       "      <td>front</td>\n",
       "      <td>94.5</td>\n",
       "      <td>171.2</td>\n",
       "      <td>65.5</td>\n",
       "      <td>52.4</td>\n",
       "      <td>2823</td>\n",
       "      <td>ohcv</td>\n",
       "      <td>six</td>\n",
       "      <td>152</td>\n",
       "      <td>mpfi</td>\n",
       "      <td>2.68</td>\n",
       "      <td>3.47</td>\n",
       "      <td>9.0</td>\n",
       "      <td>154</td>\n",
       "      <td>5000</td>\n",
       "      <td>19</td>\n",
       "      <td>26</td>\n",
       "      <td>16500.0</td>\n",
       "      <td>1</td>\n",
       "      <td>0</td>\n",
       "      <td>0</td>\n",
       "      <td>1</td>\n",
       "      <td>0</td>\n",
       "      <td>0</td>\n",
       "      <td>1</td>\n",
       "      <td>0</td>\n",
       "      <td>0</td>\n",
       "      <td>0</td>\n",
       "      <td>0</td>\n",
       "      <td>1</td>\n",
       "    </tr>\n",
       "    <tr>\n",
       "      <th>3</th>\n",
       "      <td>4</td>\n",
       "      <td>2</td>\n",
       "      <td>audi 100 ls</td>\n",
       "      <td>gas</td>\n",
       "      <td>front</td>\n",
       "      <td>99.8</td>\n",
       "      <td>176.6</td>\n",
       "      <td>66.2</td>\n",
       "      <td>54.3</td>\n",
       "      <td>2337</td>\n",
       "      <td>ohc</td>\n",
       "      <td>four</td>\n",
       "      <td>109</td>\n",
       "      <td>mpfi</td>\n",
       "      <td>3.19</td>\n",
       "      <td>3.40</td>\n",
       "      <td>10.0</td>\n",
       "      <td>102</td>\n",
       "      <td>5500</td>\n",
       "      <td>24</td>\n",
       "      <td>30</td>\n",
       "      <td>13950.0</td>\n",
       "      <td>1</td>\n",
       "      <td>0</td>\n",
       "      <td>1</td>\n",
       "      <td>0</td>\n",
       "      <td>0</td>\n",
       "      <td>0</td>\n",
       "      <td>0</td>\n",
       "      <td>1</td>\n",
       "      <td>0</td>\n",
       "      <td>0</td>\n",
       "      <td>1</td>\n",
       "      <td>0</td>\n",
       "    </tr>\n",
       "    <tr>\n",
       "      <th>4</th>\n",
       "      <td>5</td>\n",
       "      <td>2</td>\n",
       "      <td>audi 100ls</td>\n",
       "      <td>gas</td>\n",
       "      <td>front</td>\n",
       "      <td>99.4</td>\n",
       "      <td>176.6</td>\n",
       "      <td>66.4</td>\n",
       "      <td>54.3</td>\n",
       "      <td>2824</td>\n",
       "      <td>ohc</td>\n",
       "      <td>five</td>\n",
       "      <td>136</td>\n",
       "      <td>mpfi</td>\n",
       "      <td>3.19</td>\n",
       "      <td>3.40</td>\n",
       "      <td>8.0</td>\n",
       "      <td>115</td>\n",
       "      <td>5500</td>\n",
       "      <td>18</td>\n",
       "      <td>22</td>\n",
       "      <td>17450.0</td>\n",
       "      <td>1</td>\n",
       "      <td>0</td>\n",
       "      <td>1</td>\n",
       "      <td>0</td>\n",
       "      <td>0</td>\n",
       "      <td>0</td>\n",
       "      <td>0</td>\n",
       "      <td>1</td>\n",
       "      <td>0</td>\n",
       "      <td>1</td>\n",
       "      <td>0</td>\n",
       "      <td>0</td>\n",
       "    </tr>\n",
       "  </tbody>\n",
       "</table>\n",
       "</div>"
      ],
      "text/plain": [
       "   car_ID  symboling                   CarName fueltype enginelocation  \\\n",
       "0       1          3        alfa-romero giulia      gas          front   \n",
       "1       2          3       alfa-romero stelvio      gas          front   \n",
       "2       3          1  alfa-romero Quadrifoglio      gas          front   \n",
       "3       4          2               audi 100 ls      gas          front   \n",
       "4       5          2                audi 100ls      gas          front   \n",
       "\n",
       "   wheelbase  carlength  carwidth  carheight  curbweight enginetype  \\\n",
       "0       88.6      168.8      64.1       48.8        2548       dohc   \n",
       "1       88.6      168.8      64.1       48.8        2548       dohc   \n",
       "2       94.5      171.2      65.5       52.4        2823       ohcv   \n",
       "3       99.8      176.6      66.2       54.3        2337        ohc   \n",
       "4       99.4      176.6      66.4       54.3        2824        ohc   \n",
       "\n",
       "  cylindernumber  enginesize fuelsystem  boreratio  stroke  compressionratio  \\\n",
       "0           four         130       mpfi       3.47    2.68               9.0   \n",
       "1           four         130       mpfi       3.47    2.68               9.0   \n",
       "2            six         152       mpfi       2.68    3.47               9.0   \n",
       "3           four         109       mpfi       3.19    3.40              10.0   \n",
       "4           five         136       mpfi       3.19    3.40               8.0   \n",
       "\n",
       "   horsepower  peakrpm  citympg  highwaympg    price  aspiration_std  \\\n",
       "0         111     5000       21          27  13495.0               1   \n",
       "1         111     5000       21          27  16500.0               1   \n",
       "2         154     5000       19          26  16500.0               1   \n",
       "3         102     5500       24          30  13950.0               1   \n",
       "4         115     5500       18          22  17450.0               1   \n",
       "\n",
       "   aspiration_turbo  doornumber_four  doornumber_two  carbody_convertible  \\\n",
       "0                 0                0               1                    1   \n",
       "1                 0                0               1                    1   \n",
       "2                 0                0               1                    0   \n",
       "3                 0                1               0                    0   \n",
       "4                 0                1               0                    0   \n",
       "\n",
       "   carbody_hardtop  carbody_hatchback  carbody_sedan  carbody_wagon  \\\n",
       "0                0                  0              0              0   \n",
       "1                0                  0              0              0   \n",
       "2                0                  1              0              0   \n",
       "3                0                  0              1              0   \n",
       "4                0                  0              1              0   \n",
       "\n",
       "   drivewheel_4wd  drivewheel_fwd  drivewheel_rwd  \n",
       "0               0               0               1  \n",
       "1               0               0               1  \n",
       "2               0               0               1  \n",
       "3               0               1               0  \n",
       "4               1               0               0  "
      ]
     },
     "execution_count": 44,
     "metadata": {},
     "output_type": "execute_result"
    }
   ],
   "source": [
    "cars_dummies.head()"
   ]
  },
  {
   "cell_type": "markdown",
   "id": "857437dd-1ee4-4b55-9b26-da5ef88e84e2",
   "metadata": {},
   "source": [
    "**Before creating a multiple regression model, you need to *rescale* the data.**"
   ]
  },
  {
   "cell_type": "code",
   "execution_count": 45,
   "id": "7e246fcd-ba65-4cac-b3e3-7ab7400d611e",
   "metadata": {},
   "outputs": [],
   "source": [
    "from sklearn.preprocessing import StandardScaler"
   ]
  },
  {
   "cell_type": "code",
   "execution_count": 46,
   "id": "c481a04f-6173-4e56-9eed-47077d2fa8b0",
   "metadata": {},
   "outputs": [],
   "source": [
    "scaler = StandardScaler()"
   ]
  },
  {
   "cell_type": "code",
   "execution_count": 47,
   "id": "c40bce24-6b59-4350-b602-d5d77f723b5c",
   "metadata": {},
   "outputs": [
    {
     "data": {
      "text/html": [
       "<div>\n",
       "<style scoped>\n",
       "    .dataframe tbody tr th:only-of-type {\n",
       "        vertical-align: middle;\n",
       "    }\n",
       "\n",
       "    .dataframe tbody tr th {\n",
       "        vertical-align: top;\n",
       "    }\n",
       "\n",
       "    .dataframe thead th {\n",
       "        text-align: right;\n",
       "    }\n",
       "</style>\n",
       "<table border=\"1\" class=\"dataframe\">\n",
       "  <thead>\n",
       "    <tr style=\"text-align: right;\">\n",
       "      <th></th>\n",
       "      <th>car_ID</th>\n",
       "      <th>symboling</th>\n",
       "      <th>CarName</th>\n",
       "      <th>fueltype</th>\n",
       "      <th>enginelocation</th>\n",
       "      <th>wheelbase</th>\n",
       "      <th>carlength</th>\n",
       "      <th>carwidth</th>\n",
       "      <th>carheight</th>\n",
       "      <th>curbweight</th>\n",
       "      <th>enginetype</th>\n",
       "      <th>cylindernumber</th>\n",
       "      <th>enginesize</th>\n",
       "      <th>fuelsystem</th>\n",
       "      <th>boreratio</th>\n",
       "      <th>stroke</th>\n",
       "      <th>compressionratio</th>\n",
       "      <th>horsepower</th>\n",
       "      <th>peakrpm</th>\n",
       "      <th>citympg</th>\n",
       "      <th>highwaympg</th>\n",
       "      <th>price</th>\n",
       "      <th>aspiration_std</th>\n",
       "      <th>aspiration_turbo</th>\n",
       "      <th>doornumber_four</th>\n",
       "      <th>doornumber_two</th>\n",
       "      <th>carbody_convertible</th>\n",
       "      <th>carbody_hardtop</th>\n",
       "      <th>carbody_hatchback</th>\n",
       "      <th>carbody_sedan</th>\n",
       "      <th>carbody_wagon</th>\n",
       "      <th>drivewheel_4wd</th>\n",
       "      <th>drivewheel_fwd</th>\n",
       "      <th>drivewheel_rwd</th>\n",
       "    </tr>\n",
       "  </thead>\n",
       "  <tbody>\n",
       "    <tr>\n",
       "      <th>0</th>\n",
       "      <td>1</td>\n",
       "      <td>3</td>\n",
       "      <td>alfa-romero giulia</td>\n",
       "      <td>gas</td>\n",
       "      <td>front</td>\n",
       "      <td>-1.690772</td>\n",
       "      <td>-0.426521</td>\n",
       "      <td>-0.844782</td>\n",
       "      <td>-2.020417</td>\n",
       "      <td>-0.014566</td>\n",
       "      <td>dohc</td>\n",
       "      <td>four</td>\n",
       "      <td>0.074449</td>\n",
       "      <td>mpfi</td>\n",
       "      <td>0.519071</td>\n",
       "      <td>-1.839377</td>\n",
       "      <td>-0.288349</td>\n",
       "      <td>0.174483</td>\n",
       "      <td>-0.262960</td>\n",
       "      <td>-0.646553</td>\n",
       "      <td>-0.546059</td>\n",
       "      <td>13495.0</td>\n",
       "      <td>1</td>\n",
       "      <td>0</td>\n",
       "      <td>0</td>\n",
       "      <td>1</td>\n",
       "      <td>1</td>\n",
       "      <td>0</td>\n",
       "      <td>0</td>\n",
       "      <td>0</td>\n",
       "      <td>0</td>\n",
       "      <td>0</td>\n",
       "      <td>0</td>\n",
       "      <td>1</td>\n",
       "    </tr>\n",
       "    <tr>\n",
       "      <th>1</th>\n",
       "      <td>2</td>\n",
       "      <td>3</td>\n",
       "      <td>alfa-romero stelvio</td>\n",
       "      <td>gas</td>\n",
       "      <td>front</td>\n",
       "      <td>-1.690772</td>\n",
       "      <td>-0.426521</td>\n",
       "      <td>-0.844782</td>\n",
       "      <td>-2.020417</td>\n",
       "      <td>-0.014566</td>\n",
       "      <td>dohc</td>\n",
       "      <td>four</td>\n",
       "      <td>0.074449</td>\n",
       "      <td>mpfi</td>\n",
       "      <td>0.519071</td>\n",
       "      <td>-1.839377</td>\n",
       "      <td>-0.288349</td>\n",
       "      <td>0.174483</td>\n",
       "      <td>-0.262960</td>\n",
       "      <td>-0.646553</td>\n",
       "      <td>-0.546059</td>\n",
       "      <td>16500.0</td>\n",
       "      <td>1</td>\n",
       "      <td>0</td>\n",
       "      <td>0</td>\n",
       "      <td>1</td>\n",
       "      <td>1</td>\n",
       "      <td>0</td>\n",
       "      <td>0</td>\n",
       "      <td>0</td>\n",
       "      <td>0</td>\n",
       "      <td>0</td>\n",
       "      <td>0</td>\n",
       "      <td>1</td>\n",
       "    </tr>\n",
       "    <tr>\n",
       "      <th>2</th>\n",
       "      <td>3</td>\n",
       "      <td>1</td>\n",
       "      <td>alfa-romero Quadrifoglio</td>\n",
       "      <td>gas</td>\n",
       "      <td>front</td>\n",
       "      <td>-0.708596</td>\n",
       "      <td>-0.231513</td>\n",
       "      <td>-0.190566</td>\n",
       "      <td>-0.543527</td>\n",
       "      <td>0.514882</td>\n",
       "      <td>ohcv</td>\n",
       "      <td>six</td>\n",
       "      <td>0.604046</td>\n",
       "      <td>mpfi</td>\n",
       "      <td>-2.404880</td>\n",
       "      <td>0.685946</td>\n",
       "      <td>-0.288349</td>\n",
       "      <td>1.264536</td>\n",
       "      <td>-0.262960</td>\n",
       "      <td>-0.953012</td>\n",
       "      <td>-0.691627</td>\n",
       "      <td>16500.0</td>\n",
       "      <td>1</td>\n",
       "      <td>0</td>\n",
       "      <td>0</td>\n",
       "      <td>1</td>\n",
       "      <td>0</td>\n",
       "      <td>0</td>\n",
       "      <td>1</td>\n",
       "      <td>0</td>\n",
       "      <td>0</td>\n",
       "      <td>0</td>\n",
       "      <td>0</td>\n",
       "      <td>1</td>\n",
       "    </tr>\n",
       "    <tr>\n",
       "      <th>3</th>\n",
       "      <td>4</td>\n",
       "      <td>2</td>\n",
       "      <td>audi 100 ls</td>\n",
       "      <td>gas</td>\n",
       "      <td>front</td>\n",
       "      <td>0.173698</td>\n",
       "      <td>0.207256</td>\n",
       "      <td>0.136542</td>\n",
       "      <td>0.235942</td>\n",
       "      <td>-0.420797</td>\n",
       "      <td>ohc</td>\n",
       "      <td>four</td>\n",
       "      <td>-0.431076</td>\n",
       "      <td>mpfi</td>\n",
       "      <td>-0.517266</td>\n",
       "      <td>0.462183</td>\n",
       "      <td>-0.035973</td>\n",
       "      <td>-0.053668</td>\n",
       "      <td>0.787855</td>\n",
       "      <td>-0.186865</td>\n",
       "      <td>-0.109354</td>\n",
       "      <td>13950.0</td>\n",
       "      <td>1</td>\n",
       "      <td>0</td>\n",
       "      <td>1</td>\n",
       "      <td>0</td>\n",
       "      <td>0</td>\n",
       "      <td>0</td>\n",
       "      <td>0</td>\n",
       "      <td>1</td>\n",
       "      <td>0</td>\n",
       "      <td>0</td>\n",
       "      <td>1</td>\n",
       "      <td>0</td>\n",
       "    </tr>\n",
       "    <tr>\n",
       "      <th>4</th>\n",
       "      <td>5</td>\n",
       "      <td>2</td>\n",
       "      <td>audi 100ls</td>\n",
       "      <td>gas</td>\n",
       "      <td>front</td>\n",
       "      <td>0.107110</td>\n",
       "      <td>0.207256</td>\n",
       "      <td>0.230001</td>\n",
       "      <td>0.235942</td>\n",
       "      <td>0.516807</td>\n",
       "      <td>ohc</td>\n",
       "      <td>five</td>\n",
       "      <td>0.218885</td>\n",
       "      <td>mpfi</td>\n",
       "      <td>-0.517266</td>\n",
       "      <td>0.462183</td>\n",
       "      <td>-0.540725</td>\n",
       "      <td>0.275883</td>\n",
       "      <td>0.787855</td>\n",
       "      <td>-1.106241</td>\n",
       "      <td>-1.273900</td>\n",
       "      <td>17450.0</td>\n",
       "      <td>1</td>\n",
       "      <td>0</td>\n",
       "      <td>1</td>\n",
       "      <td>0</td>\n",
       "      <td>0</td>\n",
       "      <td>0</td>\n",
       "      <td>0</td>\n",
       "      <td>1</td>\n",
       "      <td>0</td>\n",
       "      <td>1</td>\n",
       "      <td>0</td>\n",
       "      <td>0</td>\n",
       "    </tr>\n",
       "  </tbody>\n",
       "</table>\n",
       "</div>"
      ],
      "text/plain": [
       "   car_ID  symboling                   CarName fueltype enginelocation  \\\n",
       "0       1          3        alfa-romero giulia      gas          front   \n",
       "1       2          3       alfa-romero stelvio      gas          front   \n",
       "2       3          1  alfa-romero Quadrifoglio      gas          front   \n",
       "3       4          2               audi 100 ls      gas          front   \n",
       "4       5          2                audi 100ls      gas          front   \n",
       "\n",
       "   wheelbase  carlength  carwidth  carheight  curbweight enginetype  \\\n",
       "0  -1.690772  -0.426521 -0.844782  -2.020417   -0.014566       dohc   \n",
       "1  -1.690772  -0.426521 -0.844782  -2.020417   -0.014566       dohc   \n",
       "2  -0.708596  -0.231513 -0.190566  -0.543527    0.514882       ohcv   \n",
       "3   0.173698   0.207256  0.136542   0.235942   -0.420797        ohc   \n",
       "4   0.107110   0.207256  0.230001   0.235942    0.516807        ohc   \n",
       "\n",
       "  cylindernumber  enginesize fuelsystem  boreratio    stroke  \\\n",
       "0           four    0.074449       mpfi   0.519071 -1.839377   \n",
       "1           four    0.074449       mpfi   0.519071 -1.839377   \n",
       "2            six    0.604046       mpfi  -2.404880  0.685946   \n",
       "3           four   -0.431076       mpfi  -0.517266  0.462183   \n",
       "4           five    0.218885       mpfi  -0.517266  0.462183   \n",
       "\n",
       "   compressionratio  horsepower   peakrpm   citympg  highwaympg    price  \\\n",
       "0         -0.288349    0.174483 -0.262960 -0.646553   -0.546059  13495.0   \n",
       "1         -0.288349    0.174483 -0.262960 -0.646553   -0.546059  16500.0   \n",
       "2         -0.288349    1.264536 -0.262960 -0.953012   -0.691627  16500.0   \n",
       "3         -0.035973   -0.053668  0.787855 -0.186865   -0.109354  13950.0   \n",
       "4         -0.540725    0.275883  0.787855 -1.106241   -1.273900  17450.0   \n",
       "\n",
       "   aspiration_std  aspiration_turbo  doornumber_four  doornumber_two  \\\n",
       "0               1                 0                0               1   \n",
       "1               1                 0                0               1   \n",
       "2               1                 0                0               1   \n",
       "3               1                 0                1               0   \n",
       "4               1                 0                1               0   \n",
       "\n",
       "   carbody_convertible  carbody_hardtop  carbody_hatchback  carbody_sedan  \\\n",
       "0                    1                0                  0              0   \n",
       "1                    1                0                  0              0   \n",
       "2                    0                0                  1              0   \n",
       "3                    0                0                  0              1   \n",
       "4                    0                0                  0              1   \n",
       "\n",
       "   carbody_wagon  drivewheel_4wd  drivewheel_fwd  drivewheel_rwd  \n",
       "0              0               0               0               1  \n",
       "1              0               0               0               1  \n",
       "2              0               0               0               1  \n",
       "3              0               0               1               0  \n",
       "4              0               1               0               0  "
      ]
     },
     "execution_count": 47,
     "metadata": {},
     "output_type": "execute_result"
    }
   ],
   "source": [
    "# Filter columns which are numeric variables but not the dependent variable (price) or the dummies variables.\n",
    "\n",
    "numeric_cols = ['wheelbase', 'carlength', 'carwidth', 'carheight', 'curbweight', 'enginesize', 'boreratio',\n",
    "               'stroke', 'compressionratio', 'horsepower', 'peakrpm', 'citympg', 'highwaympg']\n",
    "cars_dummies[numeric_cols] = scaler.fit_transform(cars_dummies[numeric_cols])\n",
    "cars_dummies.head()"
   ]
  },
  {
   "cell_type": "code",
   "execution_count": 48,
   "id": "45fbdcde-3121-422a-802a-b99e3bef59d0",
   "metadata": {},
   "outputs": [
    {
     "data": {
      "text/plain": [
       "[Text(0.5, 1.0, 'The Correlations in the Rescaled Data')]"
      ]
     },
     "execution_count": 48,
     "metadata": {},
     "output_type": "execute_result"
    },
    {
     "data": {
      "image/png": "[encoded data removed]",
      "text/plain": [
       "<Figure size 864x576 with 1 Axes>"
      ]
     },
     "metadata": {
      "needs_background": "light"
     },
     "output_type": "display_data"
    }
   ],
   "source": [
    "plt.figure(figsize=(12,8))\n",
    "ax = sns.heatmap(cars_dummies.corr()[['price']].sort_values('price', ascending=False),\n",
    "            cmap='vlag', vmin=-1, vmax=1, annot=True, cbar=False, fmt='.2f', center=0)\n",
    "ax.set(title=\"The Correlations in the Rescaled Data\")"
   ]
  },
  {
   "cell_type": "markdown",
   "id": "3901624e-f310-4c8e-a328-ac6c799f1b64",
   "metadata": {},
   "source": [
    "**Differences when creating a multiple regression model that includes dummy variables**  \n",
    "  \n",
    "- Passes **one** positional argument (the DataFrame) to the train_test_split() function.\n",
    "- The method returns only two datasets: **training dataset** and **test dataset** => split the training dataset when calling the fit() method."
   ]
  },
  {
   "cell_type": "code",
   "execution_count": 49,
   "id": "23a6afd2-8cdf-4687-b25b-1f2630514f47",
   "metadata": {},
   "outputs": [],
   "source": [
    "from sklearn.model_selection import train_test_split\n",
    "from sklearn.linear_model import LinearRegression"
   ]
  },
  {
   "cell_type": "code",
   "execution_count": 50,
   "id": "38c53a7b-3147-452d-b203-53debb231a64",
   "metadata": {},
   "outputs": [],
   "source": [
    "cars_train, cars_test = train_test_split(cars_dummies, test_size=0.2, random_state=20)"
   ]
  },
  {
   "cell_type": "code",
   "execution_count": 51,
   "id": "6f12bdb4-973d-4cda-8e94-67d7d161c93b",
   "metadata": {},
   "outputs": [],
   "source": [
    "# Choose independent variables\n",
    "X_cols = ['enginesize', 'horsepower', 'carwidth', 'drivewheel_rwd', 'highwaympg']\n",
    "\n",
    "X = cars_train[X_cols]\n",
    "Y = cars_train.price\n",
    "model = LinearRegression().fit(X, Y)"
   ]
  },
  {
   "cell_type": "code",
   "execution_count": 52,
   "id": "00697103-b07f-4481-b0a3-0c172162ca10",
   "metadata": {},
   "outputs": [
    {
     "name": "stdout",
     "output_type": "stream",
     "text": [
      "The score of the test dataset is 0.752\n",
      "The score of the training dataset is 0.833\n"
     ]
    }
   ],
   "source": [
    "print(f\"The score of the test dataset is {model.score(cars_test[X_cols], cars_test.price):.3f}\")\n",
    "print(f\"The score of the training dataset is {model.score(cars_train[X_cols], cars_train.price):.3f}\")"
   ]
  },
  {
   "cell_type": "code",
   "execution_count": 53,
   "id": "1ffa9c9d-c717-48f4-8e45-7d1776b36456",
   "metadata": {},
   "outputs": [],
   "source": [
    "Y_pred = model.predict(cars_test[X_cols])"
   ]
  },
  {
   "cell_type": "code",
   "execution_count": 54,
   "id": "8cd02378-d8c0-4a87-ac71-ced11c83aec2",
   "metadata": {},
   "outputs": [
    {
     "data": {
      "text/html": [
       "<div>\n",
       "<style scoped>\n",
       "    .dataframe tbody tr th:only-of-type {\n",
       "        vertical-align: middle;\n",
       "    }\n",
       "\n",
       "    .dataframe tbody tr th {\n",
       "        vertical-align: top;\n",
       "    }\n",
       "\n",
       "    .dataframe thead th {\n",
       "        text-align: right;\n",
       "    }\n",
       "</style>\n",
       "<table border=\"1\" class=\"dataframe\">\n",
       "  <thead>\n",
       "    <tr style=\"text-align: right;\">\n",
       "      <th></th>\n",
       "      <th>pred_price</th>\n",
       "      <th>enginesize</th>\n",
       "      <th>horsepower</th>\n",
       "      <th>carwidth</th>\n",
       "      <th>drivewheel_rwd</th>\n",
       "      <th>highwaympg</th>\n",
       "      <th>price</th>\n",
       "    </tr>\n",
       "  </thead>\n",
       "  <tbody>\n",
       "    <tr>\n",
       "      <th>0</th>\n",
       "      <td>13517.858822</td>\n",
       "      <td>0.218885</td>\n",
       "      <td>0.149133</td>\n",
       "      <td>0.183272</td>\n",
       "      <td>0</td>\n",
       "      <td>-0.837195</td>\n",
       "      <td>15250.0</td>\n",
       "    </tr>\n",
       "    <tr>\n",
       "      <th>1</th>\n",
       "      <td>5968.304606</td>\n",
       "      <td>-0.888455</td>\n",
       "      <td>-0.864871</td>\n",
       "      <td>-1.078431</td>\n",
       "      <td>0</td>\n",
       "      <td>1.783034</td>\n",
       "      <td>8916.5</td>\n",
       "    </tr>\n",
       "    <tr>\n",
       "      <th>2</th>\n",
       "      <td>4984.725918</td>\n",
       "      <td>-0.840310</td>\n",
       "      <td>-1.067671</td>\n",
       "      <td>-1.078431</td>\n",
       "      <td>0</td>\n",
       "      <td>0.181783</td>\n",
       "      <td>8778.0</td>\n",
       "    </tr>\n",
       "    <tr>\n",
       "      <th>3</th>\n",
       "      <td>37778.843127</td>\n",
       "      <td>1.831749</td>\n",
       "      <td>4.661448</td>\n",
       "      <td>2.987056</td>\n",
       "      <td>1</td>\n",
       "      <td>-0.400490</td>\n",
       "      <td>31400.5</td>\n",
       "    </tr>\n",
       "    <tr>\n",
       "      <th>4</th>\n",
       "      <td>5347.966676</td>\n",
       "      <td>-0.840310</td>\n",
       "      <td>-1.067671</td>\n",
       "      <td>-1.078431</td>\n",
       "      <td>0</td>\n",
       "      <td>1.055193</td>\n",
       "      <td>6488.0</td>\n",
       "    </tr>\n",
       "  </tbody>\n",
       "</table>\n",
       "</div>"
      ],
      "text/plain": [
       "     pred_price  enginesize  horsepower  carwidth  drivewheel_rwd  highwaympg  \\\n",
       "0  13517.858822    0.218885    0.149133  0.183272               0   -0.837195   \n",
       "1   5968.304606   -0.888455   -0.864871 -1.078431               0    1.783034   \n",
       "2   4984.725918   -0.840310   -1.067671 -1.078431               0    0.181783   \n",
       "3  37778.843127    1.831749    4.661448  2.987056               1   -0.400490   \n",
       "4   5347.966676   -0.840310   -1.067671 -1.078431               0    1.055193   \n",
       "\n",
       "     price  \n",
       "0  15250.0  \n",
       "1   8916.5  \n",
       "2   8778.0  \n",
       "3  31400.5  \n",
       "4   6488.0  "
      ]
     },
     "execution_count": 54,
     "metadata": {},
     "output_type": "execute_result"
    }
   ],
   "source": [
    "predicted = pd.DataFrame(Y_pred, columns=['pred_price'])\n",
    "predicted = predicted.join([cars_test[X_cols].reset_index(drop=True), cars_test.price.reset_index(drop=True)])\n",
    "predicted.head()"
   ]
  },
  {
   "cell_type": "markdown",
   "id": "23ab8460-9d12-4028-a77f-22b20bae9c71",
   "metadata": {},
   "source": [
    "#### Improve a multiple regression model  \n",
    "  \n",
    "** *To create the best model, select the right independent variable* **"
   ]
  },
  {
   "cell_type": "code",
   "execution_count": 55,
   "id": "64f0f0d0-5760-4567-819b-2b30d26294d1",
   "metadata": {},
   "outputs": [
    {
     "data": {
      "image/png": "[encoded data removed]",
      "text/plain": [
       "<Figure size 720x432 with 2 Axes>"
      ]
     },
     "metadata": {
      "needs_background": "light"
     },
     "output_type": "display_data"
    }
   ],
   "source": [
    "independent_and_price = ['enginesize', 'curbweight', 'horsepower', 'carwidth', 'drivewheel_rwd', \n",
    "                         'highwaympg', 'citympg', 'boreratio', 'price']\n",
    "plt.figure(figsize=(10,6))\n",
    "ax = sns.heatmap(cars_train[independent_and_price].corr().sort_values('price', ascending=False),\n",
    "            cmap='Blues', vmin=-1, vmax=1, annot=True)\n"
   ]
  },
  {
   "cell_type": "markdown",
   "id": "ef2dd3a4-5699-413d-ae71-5b6a5746f05e",
   "metadata": {},
   "source": [
    "- To find the combination of independent variables that produces an optimal regression model, you need to experiment with different combinations of variables. This process can be tedious and take a lot of time.\n",
    "- Fortunately, Scikit-learn privides *feature selection models* that help select the right features."
   ]
  },
  {
   "cell_type": "code",
   "execution_count": 56,
   "id": "d500e776-3e81-4a8a-99c4-90eb57987983",
   "metadata": {},
   "outputs": [],
   "source": [
    "from sklearn.feature_selection import SelectKBest, mutual_info_regression"
   ]
  },
  {
   "cell_type": "code",
   "execution_count": 57,
   "id": "edbd9ab2-a02f-4144-acde-a7900af7f363",
   "metadata": {},
   "outputs": [],
   "source": [
    "non_num_cols = ['CarName', 'fueltype', 'enginelocation', 'cylindernumber', 'fuelsystem', 'enginetype']\n",
    "# Drop the non-numeric columns when spliting the data.\n",
    "cars_train, cars_test = train_test_split(cars_dummies.drop(columns=non_num_cols), test_size=0.2, random_state=20)"
   ]
  },
  {
   "cell_type": "code",
   "execution_count": 58,
   "id": "a57b5416-b8e8-4010-8c63-71cbc81f1fa3",
   "metadata": {},
   "outputs": [
    {
     "data": {
      "text/plain": [
       "SelectKBest(k=20,\n",
       "            score_func=<function mutual_info_regression at 0x0000020593DE8EE0>)"
      ]
     },
     "execution_count": 58,
     "metadata": {},
     "output_type": "execute_result"
    }
   ],
   "source": [
    "fs = SelectKBest(score_func=mutual_info_regression, k=20)\n",
    "fs.fit(cars_train.drop(columns='price'), cars_train.price)"
   ]
  },
  {
   "cell_type": "code",
   "execution_count": 59,
   "id": "0e7ae211-aaed-4a49-a8ce-9e9a7af9bd6e",
   "metadata": {},
   "outputs": [],
   "source": [
    "X_train_fs = fs.transform(cars_train.drop(columns='price'))\n",
    "X_test_fs = fs.transform(cars_test.drop(columns='price'))"
   ]
  },
  {
   "cell_type": "code",
   "execution_count": 60,
   "id": "20f695a4-5916-4143-8a66-408d24e3335b",
   "metadata": {},
   "outputs": [],
   "source": [
    "model = LinearRegression().fit(X_train_fs, cars_train.price)"
   ]
  },
  {
   "cell_type": "code",
   "execution_count": 61,
   "id": "3b3c3ab0-a6d7-4eda-ad47-ad9c698e0441",
   "metadata": {},
   "outputs": [
    {
     "data": {
      "text/plain": [
       "0.7730268917681572"
      ]
     },
     "execution_count": 61,
     "metadata": {},
     "output_type": "execute_result"
    }
   ],
   "source": [
    "model.score(X_test_fs, cars_test.price)"
   ]
  },
  {
   "cell_type": "code",
   "execution_count": 62,
   "id": "f61cd1b7-1a6a-4300-bdfd-9635e7d5e971",
   "metadata": {},
   "outputs": [
    {
     "data": {
      "text/plain": [
       "0.8826996202377456"
      ]
     },
     "execution_count": 62,
     "metadata": {},
     "output_type": "execute_result"
    }
   ],
   "source": [
    "model.score(X_train_fs, cars_train.price)"
   ]
  },
  {
   "cell_type": "markdown",
   "id": "7570df78-feed-482e-9e7c-c570ed3c97cb",
   "metadata": {},
   "source": [
    "**Display the importance of each feature**"
   ]
  },
  {
   "cell_type": "code",
   "execution_count": 63,
   "id": "05989e20-8b03-4730-a11d-51a20b2d8e5d",
   "metadata": {},
   "outputs": [
    {
     "data": {
      "text/html": [
       "<div>\n",
       "<style scoped>\n",
       "    .dataframe tbody tr th:only-of-type {\n",
       "        vertical-align: middle;\n",
       "    }\n",
       "\n",
       "    .dataframe tbody tr th {\n",
       "        vertical-align: top;\n",
       "    }\n",
       "\n",
       "    .dataframe thead th {\n",
       "        text-align: right;\n",
       "    }\n",
       "</style>\n",
       "<table border=\"1\" class=\"dataframe\">\n",
       "  <thead>\n",
       "    <tr style=\"text-align: right;\">\n",
       "      <th></th>\n",
       "      <th>feature</th>\n",
       "      <th>importance</th>\n",
       "    </tr>\n",
       "  </thead>\n",
       "  <tbody>\n",
       "    <tr>\n",
       "      <th>6</th>\n",
       "      <td>curbweight</td>\n",
       "      <td>0.902392</td>\n",
       "    </tr>\n",
       "    <tr>\n",
       "      <th>11</th>\n",
       "      <td>horsepower</td>\n",
       "      <td>0.876285</td>\n",
       "    </tr>\n",
       "    <tr>\n",
       "      <th>7</th>\n",
       "      <td>enginesize</td>\n",
       "      <td>0.857745</td>\n",
       "    </tr>\n",
       "    <tr>\n",
       "      <th>14</th>\n",
       "      <td>highwaympg</td>\n",
       "      <td>0.845416</td>\n",
       "    </tr>\n",
       "    <tr>\n",
       "      <th>13</th>\n",
       "      <td>citympg</td>\n",
       "      <td>0.736679</td>\n",
       "    </tr>\n",
       "  </tbody>\n",
       "</table>\n",
       "</div>"
      ],
      "text/plain": [
       "       feature  importance\n",
       "6   curbweight    0.902392\n",
       "11  horsepower    0.876285\n",
       "7   enginesize    0.857745\n",
       "14  highwaympg    0.845416\n",
       "13     citympg    0.736679"
      ]
     },
     "execution_count": 63,
     "metadata": {},
     "output_type": "execute_result"
    }
   ],
   "source": [
    "df1 = pd.DataFrame(cars_train.drop(columns='price').columns, columns=['feature'])\n",
    "df2 = pd.DataFrame(fs.scores_, columns=['importance'])\n",
    "importance = df1.join(df2)\n",
    "importance.sort_values('importance', ascending=False).head()"
   ]
  },
  {
   "cell_type": "markdown",
   "id": "b15afc55-3297-47fc-a059-49fe97514665",
   "metadata": {},
   "source": [
    "Comparing with the results with the correlations, you can see that:\n",
    "- The **horsepower** feature is more important than the **enginesize** feature even though the **enginesize** feature has a higher correlation with price.\n",
    "- The **highwaympg** and **citympg** features are ranked 3rd and 5th even though they have a negative correlation with price.\n",
    "- Those five features are in top 5 even though some of them have a high degree of collinearity."
   ]
  },
  {
   "cell_type": "markdown",
   "id": "a9b7e603-8ac1-441e-9eb9-e20decc2344c",
   "metadata": {},
   "source": [
    "#### Use a for loop to score the model for varyring numbers of feature\n",
    "*Since sklearn feature selector help select the right features, you now just need to figure out how many features to use.*\n"
   ]
  },
  {
   "cell_type": "code",
   "execution_count": 64,
   "id": "142378bd-79dc-460c-ac0c-895ac1d74a01",
   "metadata": {},
   "outputs": [],
   "source": [
    "model = LinearRegression()\n",
    "test_scores = []\n",
    "train_scores = []"
   ]
  },
  {
   "cell_type": "code",
   "execution_count": 65,
   "id": "5a97ef74-a96d-4345-a2a5-dd26e60ce93f",
   "metadata": {},
   "outputs": [],
   "source": [
    "for i in range(1, len(cars_train.columns)):\n",
    "    fs = SelectKBest(score_func=mutual_info_regression, k=i)\n",
    "    fs.fit(cars_train.drop(columns='price'), cars_train.price)\n",
    "    \n",
    "    X_train_fs = fs.transform(cars_train.drop(columns='price'))\n",
    "    X_test_fs = fs.transform(cars_test.drop(columns='price'))\n",
    "    \n",
    "    model.fit(X_train_fs, cars_train.price)\n",
    "    \n",
    "    test_score = model.score(X_test_fs, cars_test.price)\n",
    "    train_score = model.score(X_train_fs, cars_train.price)\n",
    "    test_scores.append(test_score)\n",
    "    train_scores.append(train_score)"
   ]
  },
  {
   "cell_type": "code",
   "execution_count": 66,
   "id": "8b3ec572-4585-4975-ad26-a192ee85f39d",
   "metadata": {},
   "outputs": [],
   "source": [
    "df_scores = pd.DataFrame({\"test_scores\":test_scores, 'train_scores':train_scores})\n",
    "df_scores.reset_index(inplace=True)\n",
    "df_scores.rename(columns={'index':\"num_features\"}, inplace=True)\n",
    "df_scores.num_features = df_scores.num_features + 1"
   ]
  },
  {
   "cell_type": "code",
   "execution_count": 67,
   "id": "a928af7b-8580-4c57-b315-71b3059ba071",
   "metadata": {},
   "outputs": [
    {
     "data": {
      "text/html": [
       "<div>\n",
       "<style scoped>\n",
       "    .dataframe tbody tr th:only-of-type {\n",
       "        vertical-align: middle;\n",
       "    }\n",
       "\n",
       "    .dataframe tbody tr th {\n",
       "        vertical-align: top;\n",
       "    }\n",
       "\n",
       "    .dataframe thead th {\n",
       "        text-align: right;\n",
       "    }\n",
       "</style>\n",
       "<table border=\"1\" class=\"dataframe\">\n",
       "  <thead>\n",
       "    <tr style=\"text-align: right;\">\n",
       "      <th></th>\n",
       "      <th>num_features</th>\n",
       "      <th>test_scores</th>\n",
       "      <th>train_scores</th>\n",
       "    </tr>\n",
       "  </thead>\n",
       "  <tbody>\n",
       "    <tr>\n",
       "      <th>0</th>\n",
       "      <td>1</td>\n",
       "      <td>0.608708</td>\n",
       "      <td>0.701379</td>\n",
       "    </tr>\n",
       "    <tr>\n",
       "      <th>1</th>\n",
       "      <td>2</td>\n",
       "      <td>0.611429</td>\n",
       "      <td>0.704264</td>\n",
       "    </tr>\n",
       "    <tr>\n",
       "      <th>2</th>\n",
       "      <td>3</td>\n",
       "      <td>0.685315</td>\n",
       "      <td>0.781644</td>\n",
       "    </tr>\n",
       "    <tr>\n",
       "      <th>3</th>\n",
       "      <td>4</td>\n",
       "      <td>0.767383</td>\n",
       "      <td>0.815386</td>\n",
       "    </tr>\n",
       "    <tr>\n",
       "      <th>4</th>\n",
       "      <td>5</td>\n",
       "      <td>0.763173</td>\n",
       "      <td>0.815719</td>\n",
       "    </tr>\n",
       "    <tr>\n",
       "      <th>5</th>\n",
       "      <td>6</td>\n",
       "      <td>0.747073</td>\n",
       "      <td>0.822507</td>\n",
       "    </tr>\n",
       "    <tr>\n",
       "      <th>6</th>\n",
       "      <td>7</td>\n",
       "      <td>0.744563</td>\n",
       "      <td>0.822889</td>\n",
       "    </tr>\n",
       "    <tr>\n",
       "      <th>7</th>\n",
       "      <td>8</td>\n",
       "      <td>0.733167</td>\n",
       "      <td>0.824847</td>\n",
       "    </tr>\n",
       "    <tr>\n",
       "      <th>8</th>\n",
       "      <td>9</td>\n",
       "      <td>0.738644</td>\n",
       "      <td>0.838340</td>\n",
       "    </tr>\n",
       "    <tr>\n",
       "      <th>9</th>\n",
       "      <td>10</td>\n",
       "      <td>0.729937</td>\n",
       "      <td>0.838736</td>\n",
       "    </tr>\n",
       "    <tr>\n",
       "      <th>10</th>\n",
       "      <td>11</td>\n",
       "      <td>0.733238</td>\n",
       "      <td>0.852081</td>\n",
       "    </tr>\n",
       "    <tr>\n",
       "      <th>11</th>\n",
       "      <td>12</td>\n",
       "      <td>0.714339</td>\n",
       "      <td>0.855712</td>\n",
       "    </tr>\n",
       "    <tr>\n",
       "      <th>12</th>\n",
       "      <td>13</td>\n",
       "      <td>0.732681</td>\n",
       "      <td>0.865748</td>\n",
       "    </tr>\n",
       "    <tr>\n",
       "      <th>13</th>\n",
       "      <td>14</td>\n",
       "      <td>0.731167</td>\n",
       "      <td>0.868698</td>\n",
       "    </tr>\n",
       "    <tr>\n",
       "      <th>14</th>\n",
       "      <td>15</td>\n",
       "      <td>0.728304</td>\n",
       "      <td>0.873431</td>\n",
       "    </tr>\n",
       "    <tr>\n",
       "      <th>15</th>\n",
       "      <td>16</td>\n",
       "      <td>0.736424</td>\n",
       "      <td>0.873809</td>\n",
       "    </tr>\n",
       "    <tr>\n",
       "      <th>16</th>\n",
       "      <td>17</td>\n",
       "      <td>0.752401</td>\n",
       "      <td>0.878629</td>\n",
       "    </tr>\n",
       "    <tr>\n",
       "      <th>17</th>\n",
       "      <td>18</td>\n",
       "      <td>0.772870</td>\n",
       "      <td>0.882700</td>\n",
       "    </tr>\n",
       "    <tr>\n",
       "      <th>18</th>\n",
       "      <td>19</td>\n",
       "      <td>0.773027</td>\n",
       "      <td>0.882700</td>\n",
       "    </tr>\n",
       "    <tr>\n",
       "      <th>19</th>\n",
       "      <td>20</td>\n",
       "      <td>0.773027</td>\n",
       "      <td>0.882700</td>\n",
       "    </tr>\n",
       "    <tr>\n",
       "      <th>20</th>\n",
       "      <td>21</td>\n",
       "      <td>0.773547</td>\n",
       "      <td>0.882713</td>\n",
       "    </tr>\n",
       "    <tr>\n",
       "      <th>21</th>\n",
       "      <td>22</td>\n",
       "      <td>0.773547</td>\n",
       "      <td>0.882713</td>\n",
       "    </tr>\n",
       "    <tr>\n",
       "      <th>22</th>\n",
       "      <td>23</td>\n",
       "      <td>0.770159</td>\n",
       "      <td>0.882814</td>\n",
       "    </tr>\n",
       "    <tr>\n",
       "      <th>23</th>\n",
       "      <td>24</td>\n",
       "      <td>0.773060</td>\n",
       "      <td>0.883292</td>\n",
       "    </tr>\n",
       "    <tr>\n",
       "      <th>24</th>\n",
       "      <td>25</td>\n",
       "      <td>0.774131</td>\n",
       "      <td>0.893489</td>\n",
       "    </tr>\n",
       "    <tr>\n",
       "      <th>25</th>\n",
       "      <td>26</td>\n",
       "      <td>0.774131</td>\n",
       "      <td>0.893489</td>\n",
       "    </tr>\n",
       "    <tr>\n",
       "      <th>26</th>\n",
       "      <td>27</td>\n",
       "      <td>0.774131</td>\n",
       "      <td>0.893489</td>\n",
       "    </tr>\n",
       "  </tbody>\n",
       "</table>\n",
       "</div>"
      ],
      "text/plain": [
       "    num_features  test_scores  train_scores\n",
       "0              1     0.608708      0.701379\n",
       "1              2     0.611429      0.704264\n",
       "2              3     0.685315      0.781644\n",
       "3              4     0.767383      0.815386\n",
       "4              5     0.763173      0.815719\n",
       "5              6     0.747073      0.822507\n",
       "6              7     0.744563      0.822889\n",
       "7              8     0.733167      0.824847\n",
       "8              9     0.738644      0.838340\n",
       "9             10     0.729937      0.838736\n",
       "10            11     0.733238      0.852081\n",
       "11            12     0.714339      0.855712\n",
       "12            13     0.732681      0.865748\n",
       "13            14     0.731167      0.868698\n",
       "14            15     0.728304      0.873431\n",
       "15            16     0.736424      0.873809\n",
       "16            17     0.752401      0.878629\n",
       "17            18     0.772870      0.882700\n",
       "18            19     0.773027      0.882700\n",
       "19            20     0.773027      0.882700\n",
       "20            21     0.773547      0.882713\n",
       "21            22     0.773547      0.882713\n",
       "22            23     0.770159      0.882814\n",
       "23            24     0.773060      0.883292\n",
       "24            25     0.774131      0.893489\n",
       "25            26     0.774131      0.893489\n",
       "26            27     0.774131      0.893489"
      ]
     },
     "execution_count": 67,
     "metadata": {},
     "output_type": "execute_result"
    }
   ],
   "source": [
    "df_scores"
   ]
  },
  {
   "cell_type": "code",
   "execution_count": 68,
   "id": "22ddec2f-3016-469b-b06e-67dd69db160a",
   "metadata": {},
   "outputs": [
    {
     "data": {
      "text/plain": [
       "<AxesSubplot:xlabel='num_features'>"
      ]
     },
     "execution_count": 68,
     "metadata": {},
     "output_type": "execute_result"
    },
    {
     "data": {
      "image/png": "[encoded data removed]",
      "text/plain": [
       "<Figure size 432x288 with 1 Axes>"
      ]
     },
     "metadata": {
      "needs_background": "light"
     },
     "output_type": "display_data"
    }
   ],
   "source": [
    "df_scores.plot(x='num_features', y=['test_scores', 'train_scores'])"
   ]
  },
  {
   "cell_type": "markdown",
   "id": "4086275f-0c31-4464-809e-226f273c69ae",
   "metadata": {},
   "source": [
    "- The test scores start to decrease after the model reaches 4 features.\n",
    "- The test scores start to increase again arount 15 features.\n",
    "- The gap between the test and training scores keeps getting larger after reaching 4 features.\n",
    "  \n",
    "What you're looking for is the highest training score, the smallest gap between the test and training scores, and the fewest features.  \n",
    "In this case, therefore, the right numbers of features for this regression model is 4."
   ]
  },
  {
   "cell_type": "code",
   "execution_count": 69,
   "id": "e8df2f96-40c2-4c6d-9f30-5d1018844c0a",
   "metadata": {},
   "outputs": [],
   "source": [
    "def regression_model(data, x_cols, y='price'):    \n",
    "    data_train, data_test = train_test_split(data, test_size=0.2, random_state=20)\n",
    "    X = data_train[x_cols]\n",
    "    Y = data_train[y]\n",
    "    model = LinearRegression().fit(X, Y)\n",
    "    train_score = model.score(data_train[x_cols], data_train[y])\n",
    "    test_score = model.score(data_test[x_cols], data_test[y])\n",
    "    return train_score, test_score"
   ]
  },
  {
   "cell_type": "code",
   "execution_count": 70,
   "id": "ce0cf90e-3088-4ca6-8bc0-492aad4e4a5f",
   "metadata": {},
   "outputs": [
    {
     "name": "stdout",
     "output_type": "stream",
     "text": [
      "The 4 features are: \n",
      "horsepower highwaympg enginesize citympg\n",
      "The training score is 0.802\n",
      "The test score is 0.719\n",
      "\n",
      "The 4 features are: \n",
      "curbweight highwaympg enginesize citympg\n",
      "The training score is 0.805\n",
      "The test score is 0.736\n",
      "\n",
      "The 4 features are: \n",
      "curbweight horsepower enginesize citympg\n",
      "The training score is 0.815\n",
      "The test score is 0.768\n",
      "\n",
      "The 4 features are: \n",
      "curbweight horsepower highwaympg citympg\n",
      "The training score is 0.782\n",
      "The test score is 0.691\n",
      "\n",
      "The 4 features are: \n",
      "curbweight horsepower highwaympg enginesize\n",
      "The training score is 0.815\n",
      "The test score is 0.767\n",
      "\n"
     ]
    }
   ],
   "source": [
    "cols = ['curbweight', 'horsepower', 'highwaympg', 'enginesize', 'citympg']\n",
    "for i in range(len(cols)):\n",
    "    x_cols = cols[:i] + cols[i+1:]\n",
    "    print(\"The 4 features are: \")\n",
    "    print(*x_cols)\n",
    "    train_score, test_score = regression_model(cars_dummies, x_cols)\n",
    "    print(f\"The training score is {train_score:.3f}\")\n",
    "    print(f\"The test score is {test_score:.3f}\")\n",
    "    print()"
   ]
  },
  {
   "cell_type": "markdown",
   "id": "a1faa457-fa1f-464d-ae53-b2da50c8d9f1",
   "metadata": {},
   "source": [
    "**Experiment with different numbers of independent variables in order of smallest to largest importance from the Importance DataFrame**"
   ]
  },
  {
   "cell_type": "code",
   "execution_count": 71,
   "id": "9c799958-9109-4fd8-b13d-3b6049b51b71",
   "metadata": {},
   "outputs": [
    {
     "data": {
      "text/html": [
       "<div>\n",
       "<style scoped>\n",
       "    .dataframe tbody tr th:only-of-type {\n",
       "        vertical-align: middle;\n",
       "    }\n",
       "\n",
       "    .dataframe tbody tr th {\n",
       "        vertical-align: top;\n",
       "    }\n",
       "\n",
       "    .dataframe thead th {\n",
       "        text-align: right;\n",
       "    }\n",
       "</style>\n",
       "<table border=\"1\" class=\"dataframe\">\n",
       "  <thead>\n",
       "    <tr style=\"text-align: right;\">\n",
       "      <th></th>\n",
       "      <th>feature</th>\n",
       "      <th>importance</th>\n",
       "    </tr>\n",
       "  </thead>\n",
       "  <tbody>\n",
       "    <tr>\n",
       "      <th>6</th>\n",
       "      <td>curbweight</td>\n",
       "      <td>0.902392</td>\n",
       "    </tr>\n",
       "    <tr>\n",
       "      <th>11</th>\n",
       "      <td>horsepower</td>\n",
       "      <td>0.876285</td>\n",
       "    </tr>\n",
       "    <tr>\n",
       "      <th>7</th>\n",
       "      <td>enginesize</td>\n",
       "      <td>0.857745</td>\n",
       "    </tr>\n",
       "    <tr>\n",
       "      <th>14</th>\n",
       "      <td>highwaympg</td>\n",
       "      <td>0.845416</td>\n",
       "    </tr>\n",
       "    <tr>\n",
       "      <th>13</th>\n",
       "      <td>citympg</td>\n",
       "      <td>0.736679</td>\n",
       "    </tr>\n",
       "    <tr>\n",
       "      <th>4</th>\n",
       "      <td>carwidth</td>\n",
       "      <td>0.672181</td>\n",
       "    </tr>\n",
       "    <tr>\n",
       "      <th>2</th>\n",
       "      <td>wheelbase</td>\n",
       "      <td>0.584955</td>\n",
       "    </tr>\n",
       "    <tr>\n",
       "      <th>3</th>\n",
       "      <td>carlength</td>\n",
       "      <td>0.560273</td>\n",
       "    </tr>\n",
       "    <tr>\n",
       "      <th>0</th>\n",
       "      <td>car_ID</td>\n",
       "      <td>0.439070</td>\n",
       "    </tr>\n",
       "    <tr>\n",
       "      <th>8</th>\n",
       "      <td>boreratio</td>\n",
       "      <td>0.386570</td>\n",
       "    </tr>\n",
       "    <tr>\n",
       "      <th>9</th>\n",
       "      <td>stroke</td>\n",
       "      <td>0.344327</td>\n",
       "    </tr>\n",
       "    <tr>\n",
       "      <th>5</th>\n",
       "      <td>carheight</td>\n",
       "      <td>0.318041</td>\n",
       "    </tr>\n",
       "    <tr>\n",
       "      <th>25</th>\n",
       "      <td>drivewheel_fwd</td>\n",
       "      <td>0.316095</td>\n",
       "    </tr>\n",
       "    <tr>\n",
       "      <th>26</th>\n",
       "      <td>drivewheel_rwd</td>\n",
       "      <td>0.300455</td>\n",
       "    </tr>\n",
       "    <tr>\n",
       "      <th>12</th>\n",
       "      <td>peakrpm</td>\n",
       "      <td>0.250864</td>\n",
       "    </tr>\n",
       "    <tr>\n",
       "      <th>1</th>\n",
       "      <td>symboling</td>\n",
       "      <td>0.230321</td>\n",
       "    </tr>\n",
       "    <tr>\n",
       "      <th>21</th>\n",
       "      <td>carbody_hatchback</td>\n",
       "      <td>0.142514</td>\n",
       "    </tr>\n",
       "    <tr>\n",
       "      <th>10</th>\n",
       "      <td>compressionratio</td>\n",
       "      <td>0.121684</td>\n",
       "    </tr>\n",
       "    <tr>\n",
       "      <th>15</th>\n",
       "      <td>aspiration_std</td>\n",
       "      <td>0.049692</td>\n",
       "    </tr>\n",
       "    <tr>\n",
       "      <th>16</th>\n",
       "      <td>aspiration_turbo</td>\n",
       "      <td>0.049692</td>\n",
       "    </tr>\n",
       "    <tr>\n",
       "      <th>17</th>\n",
       "      <td>doornumber_four</td>\n",
       "      <td>0.044994</td>\n",
       "    </tr>\n",
       "    <tr>\n",
       "      <th>18</th>\n",
       "      <td>doornumber_two</td>\n",
       "      <td>0.044994</td>\n",
       "    </tr>\n",
       "    <tr>\n",
       "      <th>22</th>\n",
       "      <td>carbody_sedan</td>\n",
       "      <td>0.027725</td>\n",
       "    </tr>\n",
       "    <tr>\n",
       "      <th>20</th>\n",
       "      <td>carbody_hardtop</td>\n",
       "      <td>0.026268</td>\n",
       "    </tr>\n",
       "    <tr>\n",
       "      <th>23</th>\n",
       "      <td>carbody_wagon</td>\n",
       "      <td>0.015203</td>\n",
       "    </tr>\n",
       "    <tr>\n",
       "      <th>19</th>\n",
       "      <td>carbody_convertible</td>\n",
       "      <td>0.000000</td>\n",
       "    </tr>\n",
       "    <tr>\n",
       "      <th>24</th>\n",
       "      <td>drivewheel_4wd</td>\n",
       "      <td>0.000000</td>\n",
       "    </tr>\n",
       "  </tbody>\n",
       "</table>\n",
       "</div>"
      ],
      "text/plain": [
       "                feature  importance\n",
       "6            curbweight    0.902392\n",
       "11           horsepower    0.876285\n",
       "7            enginesize    0.857745\n",
       "14           highwaympg    0.845416\n",
       "13              citympg    0.736679\n",
       "4              carwidth    0.672181\n",
       "2             wheelbase    0.584955\n",
       "3             carlength    0.560273\n",
       "0                car_ID    0.439070\n",
       "8             boreratio    0.386570\n",
       "9                stroke    0.344327\n",
       "5             carheight    0.318041\n",
       "25       drivewheel_fwd    0.316095\n",
       "26       drivewheel_rwd    0.300455\n",
       "12              peakrpm    0.250864\n",
       "1             symboling    0.230321\n",
       "21    carbody_hatchback    0.142514\n",
       "10     compressionratio    0.121684\n",
       "15       aspiration_std    0.049692\n",
       "16     aspiration_turbo    0.049692\n",
       "17      doornumber_four    0.044994\n",
       "18       doornumber_two    0.044994\n",
       "22        carbody_sedan    0.027725\n",
       "20      carbody_hardtop    0.026268\n",
       "23        carbody_wagon    0.015203\n",
       "19  carbody_convertible    0.000000\n",
       "24       drivewheel_4wd    0.000000"
      ]
     },
     "execution_count": 71,
     "metadata": {},
     "output_type": "execute_result"
    }
   ],
   "source": [
    "sorted_importance = importance.sort_values(\"importance\", ascending=False)\n",
    "sorted_importance"
   ]
  },
  {
   "cell_type": "code",
   "execution_count": 72,
   "id": "69093ab4-fc69-4c3d-9e7c-391977e000f9",
   "metadata": {},
   "outputs": [],
   "source": [
    "train, test = [], []\n",
    "for i in range(sorted_importance.shape[0]):\n",
    "    x_cols = sorted_importance.feature.to_list()[:i+1]\n",
    "    train_score, test_score = regression_model(cars_dummies, x_cols)\n",
    "    train.append(train_score)\n",
    "    test.append(test_score)"
   ]
  },
  {
   "cell_type": "code",
   "execution_count": 73,
   "id": "db5c169a-569b-4561-8d07-ee4858b22aac",
   "metadata": {},
   "outputs": [],
   "source": [
    "result = pd.DataFrame({\"train\":train, 'test':test})\n",
    "result.reset_index(inplace=True)"
   ]
  },
  {
   "cell_type": "code",
   "execution_count": 74,
   "id": "bf1b722f-ed6f-4fc3-99e7-6e259649e918",
   "metadata": {},
   "outputs": [],
   "source": [
    "result['index'] = result.index + 1\n",
    "result.rename(columns={\"index\":\"feature\"}, inplace=True)"
   ]
  },
  {
   "cell_type": "code",
   "execution_count": 75,
   "id": "45db0c1e-3986-4c41-b3bd-a917e62d1268",
   "metadata": {},
   "outputs": [
    {
     "data": {
      "text/html": [
       "<div>\n",
       "<style scoped>\n",
       "    .dataframe tbody tr th:only-of-type {\n",
       "        vertical-align: middle;\n",
       "    }\n",
       "\n",
       "    .dataframe tbody tr th {\n",
       "        vertical-align: top;\n",
       "    }\n",
       "\n",
       "    .dataframe thead th {\n",
       "        text-align: right;\n",
       "    }\n",
       "</style>\n",
       "<table border=\"1\" class=\"dataframe\">\n",
       "  <thead>\n",
       "    <tr style=\"text-align: right;\">\n",
       "      <th></th>\n",
       "      <th>feature</th>\n",
       "      <th>train</th>\n",
       "      <th>test</th>\n",
       "    </tr>\n",
       "  </thead>\n",
       "  <tbody>\n",
       "    <tr>\n",
       "      <th>0</th>\n",
       "      <td>1</td>\n",
       "      <td>0.701379</td>\n",
       "      <td>0.608708</td>\n",
       "    </tr>\n",
       "    <tr>\n",
       "      <th>1</th>\n",
       "      <td>2</td>\n",
       "      <td>0.774061</td>\n",
       "      <td>0.711521</td>\n",
       "    </tr>\n",
       "    <tr>\n",
       "      <th>2</th>\n",
       "      <td>3</td>\n",
       "      <td>0.815141</td>\n",
       "      <td>0.767103</td>\n",
       "    </tr>\n",
       "    <tr>\n",
       "      <th>3</th>\n",
       "      <td>4</td>\n",
       "      <td>0.815386</td>\n",
       "      <td>0.767383</td>\n",
       "    </tr>\n",
       "    <tr>\n",
       "      <th>4</th>\n",
       "      <td>5</td>\n",
       "      <td>0.815719</td>\n",
       "      <td>0.763173</td>\n",
       "    </tr>\n",
       "    <tr>\n",
       "      <th>5</th>\n",
       "      <td>6</td>\n",
       "      <td>0.822507</td>\n",
       "      <td>0.747073</td>\n",
       "    </tr>\n",
       "    <tr>\n",
       "      <th>6</th>\n",
       "      <td>7</td>\n",
       "      <td>0.822889</td>\n",
       "      <td>0.744563</td>\n",
       "    </tr>\n",
       "    <tr>\n",
       "      <th>7</th>\n",
       "      <td>8</td>\n",
       "      <td>0.824847</td>\n",
       "      <td>0.733167</td>\n",
       "    </tr>\n",
       "    <tr>\n",
       "      <th>8</th>\n",
       "      <td>9</td>\n",
       "      <td>0.838340</td>\n",
       "      <td>0.738644</td>\n",
       "    </tr>\n",
       "    <tr>\n",
       "      <th>9</th>\n",
       "      <td>10</td>\n",
       "      <td>0.838736</td>\n",
       "      <td>0.729937</td>\n",
       "    </tr>\n",
       "    <tr>\n",
       "      <th>10</th>\n",
       "      <td>11</td>\n",
       "      <td>0.852081</td>\n",
       "      <td>0.733238</td>\n",
       "    </tr>\n",
       "    <tr>\n",
       "      <th>11</th>\n",
       "      <td>12</td>\n",
       "      <td>0.855712</td>\n",
       "      <td>0.714339</td>\n",
       "    </tr>\n",
       "    <tr>\n",
       "      <th>12</th>\n",
       "      <td>13</td>\n",
       "      <td>0.865748</td>\n",
       "      <td>0.732681</td>\n",
       "    </tr>\n",
       "    <tr>\n",
       "      <th>13</th>\n",
       "      <td>14</td>\n",
       "      <td>0.868698</td>\n",
       "      <td>0.731167</td>\n",
       "    </tr>\n",
       "    <tr>\n",
       "      <th>14</th>\n",
       "      <td>15</td>\n",
       "      <td>0.873431</td>\n",
       "      <td>0.728304</td>\n",
       "    </tr>\n",
       "    <tr>\n",
       "      <th>15</th>\n",
       "      <td>16</td>\n",
       "      <td>0.873809</td>\n",
       "      <td>0.736424</td>\n",
       "    </tr>\n",
       "    <tr>\n",
       "      <th>16</th>\n",
       "      <td>17</td>\n",
       "      <td>0.878629</td>\n",
       "      <td>0.752401</td>\n",
       "    </tr>\n",
       "    <tr>\n",
       "      <th>17</th>\n",
       "      <td>18</td>\n",
       "      <td>0.882700</td>\n",
       "      <td>0.772870</td>\n",
       "    </tr>\n",
       "    <tr>\n",
       "      <th>18</th>\n",
       "      <td>19</td>\n",
       "      <td>0.882700</td>\n",
       "      <td>0.773027</td>\n",
       "    </tr>\n",
       "    <tr>\n",
       "      <th>19</th>\n",
       "      <td>20</td>\n",
       "      <td>0.882700</td>\n",
       "      <td>0.773027</td>\n",
       "    </tr>\n",
       "    <tr>\n",
       "      <th>20</th>\n",
       "      <td>21</td>\n",
       "      <td>0.882713</td>\n",
       "      <td>0.773547</td>\n",
       "    </tr>\n",
       "    <tr>\n",
       "      <th>21</th>\n",
       "      <td>22</td>\n",
       "      <td>0.882713</td>\n",
       "      <td>0.773547</td>\n",
       "    </tr>\n",
       "    <tr>\n",
       "      <th>22</th>\n",
       "      <td>23</td>\n",
       "      <td>0.882814</td>\n",
       "      <td>0.770159</td>\n",
       "    </tr>\n",
       "    <tr>\n",
       "      <th>23</th>\n",
       "      <td>24</td>\n",
       "      <td>0.883292</td>\n",
       "      <td>0.773060</td>\n",
       "    </tr>\n",
       "    <tr>\n",
       "      <th>24</th>\n",
       "      <td>25</td>\n",
       "      <td>0.893489</td>\n",
       "      <td>0.774131</td>\n",
       "    </tr>\n",
       "    <tr>\n",
       "      <th>25</th>\n",
       "      <td>26</td>\n",
       "      <td>0.893489</td>\n",
       "      <td>0.774131</td>\n",
       "    </tr>\n",
       "    <tr>\n",
       "      <th>26</th>\n",
       "      <td>27</td>\n",
       "      <td>0.893489</td>\n",
       "      <td>0.774131</td>\n",
       "    </tr>\n",
       "  </tbody>\n",
       "</table>\n",
       "</div>"
      ],
      "text/plain": [
       "    feature     train      test\n",
       "0         1  0.701379  0.608708\n",
       "1         2  0.774061  0.711521\n",
       "2         3  0.815141  0.767103\n",
       "3         4  0.815386  0.767383\n",
       "4         5  0.815719  0.763173\n",
       "5         6  0.822507  0.747073\n",
       "6         7  0.822889  0.744563\n",
       "7         8  0.824847  0.733167\n",
       "8         9  0.838340  0.738644\n",
       "9        10  0.838736  0.729937\n",
       "10       11  0.852081  0.733238\n",
       "11       12  0.855712  0.714339\n",
       "12       13  0.865748  0.732681\n",
       "13       14  0.868698  0.731167\n",
       "14       15  0.873431  0.728304\n",
       "15       16  0.873809  0.736424\n",
       "16       17  0.878629  0.752401\n",
       "17       18  0.882700  0.772870\n",
       "18       19  0.882700  0.773027\n",
       "19       20  0.882700  0.773027\n",
       "20       21  0.882713  0.773547\n",
       "21       22  0.882713  0.773547\n",
       "22       23  0.882814  0.770159\n",
       "23       24  0.883292  0.773060\n",
       "24       25  0.893489  0.774131\n",
       "25       26  0.893489  0.774131\n",
       "26       27  0.893489  0.774131"
      ]
     },
     "execution_count": 75,
     "metadata": {},
     "output_type": "execute_result"
    }
   ],
   "source": [
    "result"
   ]
  },
  {
   "cell_type": "code",
   "execution_count": 76,
   "id": "28c22f35-537e-4491-aada-95e1295e8790",
   "metadata": {},
   "outputs": [
    {
     "data": {
      "text/plain": [
       "<AxesSubplot:xlabel='feature'>"
      ]
     },
     "execution_count": 76,
     "metadata": {},
     "output_type": "execute_result"
    },
    {
     "data": {
      "image/png": "[encoded data removed]",
      "text/plain": [
       "<Figure size 432x288 with 1 Axes>"
      ]
     },
     "metadata": {
      "needs_background": "light"
     },
     "output_type": "display_data"
    }
   ],
   "source": [
    "result.plot(x='feature', y=['train', 'test'])"
   ]
  },
  {
   "cell_type": "code",
   "execution_count": null,
   "id": "94f52a04-909d-4c1b-b4c7-90257e8a39db",
   "metadata": {},
   "outputs": [],
   "source": []
  }
 ],
 "metadata": {
  "kernelspec": {
   "display_name": "Python 3 (ipykernel)",
   "language": "python",
   "name": "python3"
  },
  "language_info": {
   "codemirror_mode": {
    "name": "ipython",
    "version": 3
   },
   "file_extension": ".py",
   "mimetype": "text/x-python",
   "name": "python",
   "nbconvert_exporter": "python",
   "pygments_lexer": "ipython3",
   "version": "3.9.7"
  }
 },
 "nbformat": 4,
 "nbformat_minor": 5
}
